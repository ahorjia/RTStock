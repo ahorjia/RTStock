{
 "cells": [
  {
   "cell_type": "markdown",
   "metadata": {},
   "source": [
    "https://www.quantstart.com/articles/aluminum-smelting-cointegration-strategy-in-qstrader"
   ]
  },
  {
   "cell_type": "code",
   "execution_count": 1,
   "metadata": {
    "collapsed": true
   },
   "outputs": [],
   "source": [
    "import numpy as np\n",
    "import pandas as pd\n",
    "import datetime as dt\n",
    "from pandas_datareader import data, wb\n",
    "import matplotlib.pyplot as plt\n",
    "import statsmodels.tsa.stattools as ts"
   ]
  },
  {
   "cell_type": "code",
   "execution_count": 2,
   "metadata": {
    "collapsed": false
   },
   "outputs": [
    {
     "name": "stdout",
     "output_type": "stream",
     "text": [
      "Populating the interactive namespace from numpy and matplotlib\n"
     ]
    }
   ],
   "source": [
    "%matplotlib inline\n",
    "%pylab inline\n",
    "pylab.rcParams['figure.figsize'] = (15, 10)"
   ]
  },
  {
   "cell_type": "code",
   "execution_count": 3,
   "metadata": {
    "collapsed": true
   },
   "outputs": [],
   "source": [
    "def annualised_sharpe(returns, N=252):\n",
    "    return np.sqrt(N) * returns.mean() / returns.std()"
   ]
  },
  {
   "cell_type": "code",
   "execution_count": 4,
   "metadata": {
    "collapsed": false
   },
   "outputs": [],
   "source": [
    "def long_only_sharpe(col, risk_free_rate=0.04):\n",
    "    dr_col = col.pct_change()\n",
    "    edr_col= dr_col - risk_free_rate / 252.0\n",
    "    return annualised_sharpe(edr_col)"
   ]
  },
  {
   "cell_type": "code",
   "execution_count": 20,
   "metadata": {
    "collapsed": true
   },
   "outputs": [],
   "source": [
    "def market_neutral_sharpe(tick, benchmark):\n",
    "    col1 = tick['Close'].pct_change()\n",
    "    col2 = benchmark['Close'].pct_change()\n",
    "\n",
    "    diff_pd = pd.DataFrame(index=tick.index)\n",
    "    diff_pd['net_ret'] = (col1 - col2) / 2.0\n",
    "\n",
    "    return annualised_sharpe(diff_pd['net_ret'])"
   ]
  },
  {
   "cell_type": "code",
   "execution_count": 6,
   "metadata": {
    "collapsed": true
   },
   "outputs": [],
   "source": [
    "def net_ret(tick):\n",
    "    return tick.pct_change()"
   ]
  },
  {
   "cell_type": "code",
   "execution_count": 7,
   "metadata": {
    "collapsed": false
   },
   "outputs": [],
   "source": [
    "start = dt.datetime(2004, 11, 18)\n",
    "end = dt.datetime(2007, 11, 30)\n",
    "gld  = data.DataReader('GLD', 'google', start, end)\n",
    "gdx = data.DataReader('GDX', 'google', start, end)\n",
    "spy = data.DataReader('SPY', 'google', start, end)"
   ]
  },
  {
   "cell_type": "code",
   "execution_count": 8,
   "metadata": {
    "collapsed": false
   },
   "outputs": [
    {
     "data": {
      "text/html": [
       "<div>\n",
       "<table border=\"1\" class=\"dataframe\">\n",
       "  <thead>\n",
       "    <tr style=\"text-align: right;\">\n",
       "      <th></th>\n",
       "      <th>Open</th>\n",
       "      <th>High</th>\n",
       "      <th>Low</th>\n",
       "      <th>Close</th>\n",
       "      <th>Volume</th>\n",
       "    </tr>\n",
       "    <tr>\n",
       "      <th>Date</th>\n",
       "      <th></th>\n",
       "      <th></th>\n",
       "      <th></th>\n",
       "      <th></th>\n",
       "      <th></th>\n",
       "    </tr>\n",
       "  </thead>\n",
       "  <tbody>\n",
       "    <tr>\n",
       "      <th>2004-11-18</th>\n",
       "      <td>44.43</td>\n",
       "      <td>44.49</td>\n",
       "      <td>44.07</td>\n",
       "      <td>44.38</td>\n",
       "      <td>5991500</td>\n",
       "    </tr>\n",
       "    <tr>\n",
       "      <th>2004-11-19</th>\n",
       "      <td>44.49</td>\n",
       "      <td>44.92</td>\n",
       "      <td>44.47</td>\n",
       "      <td>44.78</td>\n",
       "      <td>11655000</td>\n",
       "    </tr>\n",
       "    <tr>\n",
       "      <th>2004-11-22</th>\n",
       "      <td>44.75</td>\n",
       "      <td>44.97</td>\n",
       "      <td>44.74</td>\n",
       "      <td>44.95</td>\n",
       "      <td>11995600</td>\n",
       "    </tr>\n",
       "    <tr>\n",
       "      <th>2004-11-23</th>\n",
       "      <td>44.88</td>\n",
       "      <td>44.92</td>\n",
       "      <td>44.72</td>\n",
       "      <td>44.75</td>\n",
       "      <td>3169000</td>\n",
       "    </tr>\n",
       "    <tr>\n",
       "      <th>2004-11-24</th>\n",
       "      <td>44.93</td>\n",
       "      <td>45.05</td>\n",
       "      <td>44.79</td>\n",
       "      <td>45.05</td>\n",
       "      <td>6105100</td>\n",
       "    </tr>\n",
       "  </tbody>\n",
       "</table>\n",
       "</div>"
      ],
      "text/plain": [
       "             Open   High    Low  Close    Volume\n",
       "Date                                            \n",
       "2004-11-18  44.43  44.49  44.07  44.38   5991500\n",
       "2004-11-19  44.49  44.92  44.47  44.78  11655000\n",
       "2004-11-22  44.75  44.97  44.74  44.95  11995600\n",
       "2004-11-23  44.88  44.92  44.72  44.75   3169000\n",
       "2004-11-24  44.93  45.05  44.79  45.05   6105100"
      ]
     },
     "execution_count": 8,
     "metadata": {},
     "output_type": "execute_result"
    }
   ],
   "source": [
    "gld.head()"
   ]
  },
  {
   "cell_type": "code",
   "execution_count": 9,
   "metadata": {
    "collapsed": false
   },
   "outputs": [
    {
     "data": {
      "text/html": [
       "<div>\n",
       "<table border=\"1\" class=\"dataframe\">\n",
       "  <thead>\n",
       "    <tr style=\"text-align: right;\">\n",
       "      <th></th>\n",
       "      <th>Open</th>\n",
       "      <th>High</th>\n",
       "      <th>Low</th>\n",
       "      <th>Close</th>\n",
       "      <th>Volume</th>\n",
       "    </tr>\n",
       "    <tr>\n",
       "      <th>Date</th>\n",
       "      <th></th>\n",
       "      <th></th>\n",
       "      <th></th>\n",
       "      <th></th>\n",
       "      <th></th>\n",
       "    </tr>\n",
       "  </thead>\n",
       "  <tbody>\n",
       "    <tr>\n",
       "      <th>2007-11-26</th>\n",
       "      <td>82.25</td>\n",
       "      <td>82.25</td>\n",
       "      <td>81.13</td>\n",
       "      <td>81.30</td>\n",
       "      <td>6769500</td>\n",
       "    </tr>\n",
       "    <tr>\n",
       "      <th>2007-11-27</th>\n",
       "      <td>80.70</td>\n",
       "      <td>80.89</td>\n",
       "      <td>79.81</td>\n",
       "      <td>80.10</td>\n",
       "      <td>6626800</td>\n",
       "    </tr>\n",
       "    <tr>\n",
       "      <th>2007-11-28</th>\n",
       "      <td>79.42</td>\n",
       "      <td>79.87</td>\n",
       "      <td>78.76</td>\n",
       "      <td>79.57</td>\n",
       "      <td>9030500</td>\n",
       "    </tr>\n",
       "    <tr>\n",
       "      <th>2007-11-29</th>\n",
       "      <td>79.28</td>\n",
       "      <td>79.33</td>\n",
       "      <td>78.28</td>\n",
       "      <td>78.28</td>\n",
       "      <td>8647800</td>\n",
       "    </tr>\n",
       "    <tr>\n",
       "      <th>2007-11-30</th>\n",
       "      <td>78.35</td>\n",
       "      <td>78.60</td>\n",
       "      <td>76.98</td>\n",
       "      <td>77.32</td>\n",
       "      <td>7872100</td>\n",
       "    </tr>\n",
       "  </tbody>\n",
       "</table>\n",
       "</div>"
      ],
      "text/plain": [
       "             Open   High    Low  Close   Volume\n",
       "Date                                           \n",
       "2007-11-26  82.25  82.25  81.13  81.30  6769500\n",
       "2007-11-27  80.70  80.89  79.81  80.10  6626800\n",
       "2007-11-28  79.42  79.87  78.76  79.57  9030500\n",
       "2007-11-29  79.28  79.33  78.28  78.28  8647800\n",
       "2007-11-30  78.35  78.60  76.98  77.32  7872100"
      ]
     },
     "execution_count": 9,
     "metadata": {},
     "output_type": "execute_result"
    }
   ],
   "source": [
    "gld.tail()"
   ]
  },
  {
   "cell_type": "code",
   "execution_count": 10,
   "metadata": {
    "collapsed": false
   },
   "outputs": [
    {
     "data": {
      "text/html": [
       "<div>\n",
       "<table border=\"1\" class=\"dataframe\">\n",
       "  <thead>\n",
       "    <tr style=\"text-align: right;\">\n",
       "      <th></th>\n",
       "      <th>Open</th>\n",
       "      <th>High</th>\n",
       "      <th>Low</th>\n",
       "      <th>Close</th>\n",
       "      <th>Volume</th>\n",
       "    </tr>\n",
       "    <tr>\n",
       "      <th>Date</th>\n",
       "      <th></th>\n",
       "      <th></th>\n",
       "      <th></th>\n",
       "      <th></th>\n",
       "      <th></th>\n",
       "    </tr>\n",
       "  </thead>\n",
       "  <tbody>\n",
       "    <tr>\n",
       "      <th>2006-05-22</th>\n",
       "      <td>36.52</td>\n",
       "      <td>37.29</td>\n",
       "      <td>35.87</td>\n",
       "      <td>37.23</td>\n",
       "      <td>197100</td>\n",
       "    </tr>\n",
       "    <tr>\n",
       "      <th>2006-05-23</th>\n",
       "      <td>37.75</td>\n",
       "      <td>39.22</td>\n",
       "      <td>37.75</td>\n",
       "      <td>37.96</td>\n",
       "      <td>620900</td>\n",
       "    </tr>\n",
       "    <tr>\n",
       "      <th>2006-05-24</th>\n",
       "      <td>37.13</td>\n",
       "      <td>37.57</td>\n",
       "      <td>35.87</td>\n",
       "      <td>36.52</td>\n",
       "      <td>638600</td>\n",
       "    </tr>\n",
       "    <tr>\n",
       "      <th>2006-05-25</th>\n",
       "      <td>37.18</td>\n",
       "      <td>38.32</td>\n",
       "      <td>36.98</td>\n",
       "      <td>38.32</td>\n",
       "      <td>366800</td>\n",
       "    </tr>\n",
       "    <tr>\n",
       "      <th>2006-05-26</th>\n",
       "      <td>38.74</td>\n",
       "      <td>38.74</td>\n",
       "      <td>37.77</td>\n",
       "      <td>38.55</td>\n",
       "      <td>269400</td>\n",
       "    </tr>\n",
       "  </tbody>\n",
       "</table>\n",
       "</div>"
      ],
      "text/plain": [
       "             Open   High    Low  Close  Volume\n",
       "Date                                          \n",
       "2006-05-22  36.52  37.29  35.87  37.23  197100\n",
       "2006-05-23  37.75  39.22  37.75  37.96  620900\n",
       "2006-05-24  37.13  37.57  35.87  36.52  638600\n",
       "2006-05-25  37.18  38.32  36.98  38.32  366800\n",
       "2006-05-26  38.74  38.74  37.77  38.55  269400"
      ]
     },
     "execution_count": 10,
     "metadata": {},
     "output_type": "execute_result"
    }
   ],
   "source": [
    "gdx.head()"
   ]
  },
  {
   "cell_type": "code",
   "execution_count": 11,
   "metadata": {
    "collapsed": false
   },
   "outputs": [
    {
     "data": {
      "text/html": [
       "<div>\n",
       "<table border=\"1\" class=\"dataframe\">\n",
       "  <thead>\n",
       "    <tr style=\"text-align: right;\">\n",
       "      <th></th>\n",
       "      <th>Open</th>\n",
       "      <th>High</th>\n",
       "      <th>Low</th>\n",
       "      <th>Close</th>\n",
       "      <th>Volume</th>\n",
       "    </tr>\n",
       "    <tr>\n",
       "      <th>Date</th>\n",
       "      <th></th>\n",
       "      <th></th>\n",
       "      <th></th>\n",
       "      <th></th>\n",
       "      <th></th>\n",
       "    </tr>\n",
       "  </thead>\n",
       "  <tbody>\n",
       "    <tr>\n",
       "      <th>2007-11-26</th>\n",
       "      <td>49.43</td>\n",
       "      <td>49.43</td>\n",
       "      <td>46.85</td>\n",
       "      <td>47.06</td>\n",
       "      <td>1955100</td>\n",
       "    </tr>\n",
       "    <tr>\n",
       "      <th>2007-11-27</th>\n",
       "      <td>46.84</td>\n",
       "      <td>46.84</td>\n",
       "      <td>45.74</td>\n",
       "      <td>46.61</td>\n",
       "      <td>2321000</td>\n",
       "    </tr>\n",
       "    <tr>\n",
       "      <th>2007-11-28</th>\n",
       "      <td>46.11</td>\n",
       "      <td>48.00</td>\n",
       "      <td>46.06</td>\n",
       "      <td>47.86</td>\n",
       "      <td>2891000</td>\n",
       "    </tr>\n",
       "    <tr>\n",
       "      <th>2007-11-29</th>\n",
       "      <td>47.10</td>\n",
       "      <td>48.00</td>\n",
       "      <td>46.76</td>\n",
       "      <td>47.02</td>\n",
       "      <td>1665900</td>\n",
       "    </tr>\n",
       "    <tr>\n",
       "      <th>2007-11-30</th>\n",
       "      <td>47.09</td>\n",
       "      <td>47.50</td>\n",
       "      <td>45.70</td>\n",
       "      <td>46.36</td>\n",
       "      <td>2001100</td>\n",
       "    </tr>\n",
       "  </tbody>\n",
       "</table>\n",
       "</div>"
      ],
      "text/plain": [
       "             Open   High    Low  Close   Volume\n",
       "Date                                           \n",
       "2007-11-26  49.43  49.43  46.85  47.06  1955100\n",
       "2007-11-27  46.84  46.84  45.74  46.61  2321000\n",
       "2007-11-28  46.11  48.00  46.06  47.86  2891000\n",
       "2007-11-29  47.10  48.00  46.76  47.02  1665900\n",
       "2007-11-30  47.09  47.50  45.70  46.36  2001100"
      ]
     },
     "execution_count": 11,
     "metadata": {},
     "output_type": "execute_result"
    }
   ],
   "source": [
    "gdx.tail()"
   ]
  },
  {
   "cell_type": "code",
   "execution_count": 12,
   "metadata": {
    "collapsed": false
   },
   "outputs": [
    {
     "name": "stdout",
     "output_type": "stream",
     "text": [
      "0.291597518071\n",
      "0.593187318047\n"
     ]
    }
   ],
   "source": [
    "print market_neutral_sharpe(gdx, spy)\n",
    "print market_neutral_sharpe(gld, spy)"
   ]
  },
  {
   "cell_type": "code",
   "execution_count": 13,
   "metadata": {
    "collapsed": false
   },
   "outputs": [
    {
     "name": "stdout",
     "output_type": "stream",
     "text": [
      "0.471083092975\n",
      "0.869831454447\n"
     ]
    }
   ],
   "source": [
    "print long_only_sharpe(gdx['Close'])\n",
    "print long_only_sharpe(gld['Close'])"
   ]
  },
  {
   "cell_type": "code",
   "execution_count": 14,
   "metadata": {
    "collapsed": false
   },
   "outputs": [],
   "source": [
    "def measure_drawdowns(daily_returns):\n",
    "\n",
    "    cumret = np.cumprod(1 + daily_returns) - 1\n",
    "    \n",
    "    hwm = [0] # High Watermark\n",
    "    eq_idx = cumret.index\n",
    "    drawdown = pd.Series(index = eq_idx)\n",
    "    duration = pd.Series(index = eq_idx)\n",
    "\n",
    "    # Loop over the index range\n",
    "    for t in range(1, len(eq_idx)):\n",
    "        hwm.append(max(hwm[t-1], cumret[t]))\n",
    "        drawdown[t]= (1 + hwm[t]) / (1 + cumret[t]) - 1\n",
    "        if drawdown[t] <= 0:\n",
    "            duration[t]= 0\n",
    "        else:\n",
    "            duration[t] = duration[t-1] + 1\n",
    "    return drawdown.max(), duration.max()\n"
   ]
  },
  {
   "cell_type": "code",
   "execution_count": 15,
   "metadata": {
    "collapsed": false
   },
   "outputs": [
    {
     "data": {
      "text/plain": [
       "(0.25821876867901916, 117.0)"
      ]
     },
     "execution_count": 15,
     "metadata": {},
     "output_type": "execute_result"
    }
   ],
   "source": [
    "measure_drawdowns(net_ret(gdx['Close']))"
   ]
  },
  {
   "cell_type": "code",
   "execution_count": 21,
   "metadata": {
    "collapsed": true
   },
   "outputs": [],
   "source": [
    "def test_cointegration(sym1, sym2, start, end):\n",
    "    s1 = data.DataReader(sym1, 'google', start, end)\n",
    "    s2 = data.DataReader(sym2, 'google', start, end)\n",
    "\n",
    "    s1['Key'] = s1.index\n",
    "    s2['Key'] = s2.index\n",
    "\n",
    "    merged = pd.merge(s1, s2, on='Key')\n",
    "\n",
    "    x1 = merged['Close_x']\n",
    "    x2 = merged['Close_y']\n",
    "    \n",
    "    coint_result = ts.coint(x1, x2) \n",
    "    return coint_result"
   ]
  },
  {
   "cell_type": "code",
   "execution_count": 28,
   "metadata": {
    "collapsed": true
   },
   "outputs": [],
   "source": [
    "def test_correlation(sym1, sym2, start, end):\n",
    "    s1 = data.DataReader(sym1, 'google', start, end)\n",
    "    s2 = data.DataReader(sym2, 'google', start, end)\n",
    " \n",
    "    s1['Key'] = s1.index\n",
    "    s2['Key'] = s2.index\n",
    "\n",
    "    merged = pd.merge(s1, s2, on='Key')\n",
    "    new = pd.DataFrame(index=merged.index)\n",
    "    new['X'] = merged['Close_x']\n",
    "    new['Y'] = merged['Close_y']\n",
    "\n",
    "    beta, alpha = np.polyfit(new['X'], new['Y'], 1)\n",
    "    return beta, alpha, new.corr(method='pearson')\n"
   ]
  },
  {
   "cell_type": "code",
   "execution_count": null,
   "metadata": {
    "collapsed": true
   },
   "outputs": [],
   "source": [
    "start = dt.datetime(2004, 11, 18)\n",
    "end = dt.datetime(2007, 11, 30)"
   ]
  },
  {
   "cell_type": "code",
   "execution_count": 23,
   "metadata": {
    "collapsed": false
   },
   "outputs": [
    {
     "data": {
      "text/plain": [
       "(-3.6048336753923791,\n",
       " 0.024166194822750238,\n",
       " array([-3.44740523, -2.86905694, -2.57077435]))"
      ]
     },
     "execution_count": 23,
     "metadata": {},
     "output_type": "execute_result"
    }
   ],
   "source": [
    "test_cointegration('GLD', 'GDX', start, end)"
   ]
  },
  {
   "cell_type": "code",
   "execution_count": 24,
   "metadata": {
    "collapsed": false
   },
   "outputs": [
    {
     "data": {
      "text/plain": [
       "(-3.7876105744707225,\n",
       " 0.014080083730920933,\n",
       " array([-3.49614905, -2.89032096, -2.58212235]))"
      ]
     },
     "execution_count": 24,
     "metadata": {},
     "output_type": "execute_result"
    }
   ],
   "source": [
    "test_cointegration('CRM', 'NOW', start, end)"
   ]
  },
  {
   "cell_type": "code",
   "execution_count": 25,
   "metadata": {
    "collapsed": false
   },
   "outputs": [
    {
     "data": {
      "text/plain": [
       "(-2.1301985652441942,\n",
       " 0.46059524596968199,\n",
       " array([-3.43893823, -2.86533046, -2.56878843]))"
      ]
     },
     "execution_count": 25,
     "metadata": {},
     "output_type": "execute_result"
    }
   ],
   "source": [
    "test_cointegration('MSFT', 'SPY', start, end)"
   ]
  },
  {
   "cell_type": "code",
   "execution_count": 26,
   "metadata": {
    "collapsed": false
   },
   "outputs": [
    {
     "data": {
      "text/plain": [
       "(-2.6965075065227846,\n",
       " 0.20083728549481022,\n",
       " array([-3.43893823, -2.86533046, -2.56878843]))"
      ]
     },
     "execution_count": 26,
     "metadata": {},
     "output_type": "execute_result"
    }
   ],
   "source": [
    "test_cointegration('MSFT', 'CRM', start, end)"
   ]
  },
  {
   "cell_type": "code",
   "execution_count": 30,
   "metadata": {
    "collapsed": false
   },
   "outputs": [
    {
     "name": "stdout",
     "output_type": "stream",
     "text": [
      "Beta 0.607320108047\n",
      "Alpha 0.156633044494\n",
      "          X         Y\n",
      "X  1.000000  0.918347\n",
      "Y  0.918347  1.000000\n"
     ]
    }
   ],
   "source": [
    "b, a, c = test_correlation('GLD', 'GDX', start, end)\n",
    "print \"Beta\", b\n",
    "print \"Alpha\", a\n",
    "print c"
   ]
  },
  {
   "cell_type": "code",
   "execution_count": 32,
   "metadata": {
    "collapsed": false
   },
   "outputs": [
    {
     "name": "stdout",
     "output_type": "stream",
     "text": [
      "(-2.1891570962039837, 0.42996182000714633, array([-3.44316155, -2.8671905 , -2.5697795 ]))\n",
      "Beta 0.487302930514\n",
      "Alpha 38.7381419733\n",
      "          X         Y\n",
      "X  1.000000  0.432563\n",
      "Y  0.432563  1.000000\n"
     ]
    }
   ],
   "source": [
    "start = dt.datetime(2014, 11, 18)\n",
    "end = dt.datetime(2016, 11, 30)\n",
    "\n",
    "print test_cointegration('CRM', 'NOW', start, end)\n",
    "b, a, c = test_correlation('CRM', 'NOW', start, end)\n",
    "print \"Beta\", b\n",
    "print \"Alpha\", a\n",
    "print c"
   ]
  },
  {
   "cell_type": "code",
   "execution_count": 33,
   "metadata": {
    "collapsed": false
   },
   "outputs": [
    {
     "name": "stdout",
     "output_type": "stream",
     "text": [
      "(-3.1579755333292843, 0.077241337920649869, array([-3.44316155, -2.8671905 , -2.5697795 ]))\n",
      "Beta 0.631185252145\n",
      "Alpha -52.8392634405\n",
      "          X         Y\n",
      "X  1.000000  0.953412\n",
      "Y  0.953412  1.000000\n"
     ]
    }
   ],
   "source": [
    "start = dt.datetime(2014, 11, 18)\n",
    "end = dt.datetime(2016, 11, 30)\n",
    "\n",
    "print test_cointegration('GLD', 'GDX', start, end)\n",
    "b, a, c = test_correlation('GLD', 'GDX', start, end)\n",
    "print \"Beta\", b\n",
    "print \"Alpha\", a\n",
    "print c"
   ]
  },
  {
   "cell_type": "code",
   "execution_count": null,
   "metadata": {
    "collapsed": true
   },
   "outputs": [],
   "source": []
  }
 ],
 "metadata": {
  "kernelspec": {
   "display_name": "Python 2",
   "language": "python",
   "name": "python2"
  },
  "language_info": {
   "codemirror_mode": {
    "name": "ipython",
    "version": 2
   },
   "file_extension": ".py",
   "mimetype": "text/x-python",
   "name": "python",
   "nbconvert_exporter": "python",
   "pygments_lexer": "ipython2",
   "version": "2.7.13"
  }
 },
 "nbformat": 4,
 "nbformat_minor": 2
}
