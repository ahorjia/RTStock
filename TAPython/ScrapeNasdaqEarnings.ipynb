{
 "cells": [
  {
   "cell_type": "code",
   "execution_count": 1,
   "metadata": {
    "collapsed": true
   },
   "outputs": [],
   "source": [
    "url = \"http://www.nasdaq.com/earnings/earnings-calendar.aspx\"\n",
    "frame = '<iframe src=' + url + 'width=700 height=500></iframe>'"
   ]
  },
  {
   "cell_type": "code",
   "execution_count": 2,
   "metadata": {},
   "outputs": [
    {
     "name": "stdout",
     "output_type": "stream",
     "text": [
      "<class 'bs4.BeautifulSoup'>\n"
     ]
    },
    {
     "name": "stderr",
     "output_type": "stream",
     "text": [
      "C:\\ProgramData\\Anaconda2\\lib\\site-packages\\bs4\\__init__.py:181: UserWarning: No parser was explicitly specified, so I'm using the best available HTML parser for this system (\"lxml\"). This usually isn't a problem, but if you run this code on another system, or in a different virtual environment, it may use a different parser and behave differently.\n",
      "\n",
      "The code that caused this warning is on line 174 of the file C:\\ProgramData\\Anaconda2\\lib\\runpy.py. To get rid of this warning, change code that looks like this:\n",
      "\n",
      " BeautifulSoup(YOUR_MARKUP})\n",
      "\n",
      "to this:\n",
      "\n",
      " BeautifulSoup(YOUR_MARKUP, \"lxml\")\n",
      "\n",
      "  markup_type=markup_type))\n"
     ]
    }
   ],
   "source": [
    "from bs4 import BeautifulSoup\n",
    "import urllib\n",
    "r = urllib.urlopen(url).read()\n",
    "soup = BeautifulSoup(r)\n",
    "print type(soup)"
   ]
  },
  {
   "cell_type": "code",
   "execution_count": 3,
   "metadata": {},
   "outputs": [
    {
     "name": "stdout",
     "output_type": "stream",
     "text": [
      "<!DOCTYPE html>\n",
      "<html class=\"inner no-js\" lang=\"en-us\" xmlns:fb=\"https://www.facebook.com/2008/fbml\" xmlns:og=\"http://ogp.me/ns#\">\n",
      " <head>\n",
      "  <!-- Google Tag Manager -->\n",
      "  <script>\n",
      "   (function(w,d,s,l,i){w[l]=w[l]||[];w[l].push({'gtm.start':\r\n",
      "new Date().getTime(),event:'gtm.js'});var f=d.getElementsByTagName(s)[0],\r\n",
      "j=d.createElement(s),dl=l!='dataLayer'?'&l='+l:'';j.async=true;j.src=\r\n",
      "'https://www.googletagmanager.com/gtm.js?id='+i+dl;f.parentNode.insertBefore(j,f);\r\n",
      "})(window,document,'script','dataLayer','GTM-K2BQVP7');\n",
      "  </script>\n",
      "  <!-- End Google Tag Manager -->\n",
      "  <script>\n",
      "   (function(){\r\n",
      "var is_chrome;\r\n",
      "if(typeof navigator.vendor!=\"undefined\")\r\n",
      "\tis_chrome = ((navigator.userAgent.toLowerCase().indexOf('chrome') > -1) &&(navigator.vendor.toLowerCase().indexOf(\"google\") > -1));\r\n",
      "else\r\n",
      "\tis_chrome = false;\r\n",
      "if(is_chrome)\r\n",
      "{\r\n",
      "//instart\r\n",
      "//Copyright Intart Logic Thu Nov 16 2017 - version: 8.3.21\r\n",
      "!function(t){if(function(){var n=!0;try{var i=\"object\"==typeof t.IXC_320_8513696329873064\n"
     ]
    }
   ],
   "source": [
    "print soup.prettify()[0:1000]"
   ]
  },
  {
   "cell_type": "code",
   "execution_count": 4,
   "metadata": {},
   "outputs": [
    {
     "name": "stdout",
     "output_type": "stream",
     "text": [
      "<class 'bs4.element.Tag'>\n"
     ]
    }
   ],
   "source": [
    "companiesTable = soup.find(id='ECCompaniesTable')\n",
    "print(type(companiesTable))"
   ]
  },
  {
   "cell_type": "code",
   "execution_count": 5,
   "metadata": {
    "collapsed": true
   },
   "outputs": [],
   "source": [
    "from enum import Enum\n",
    "class Hours(Enum):\n",
    "    DAY = 1\n",
    "    NIGHT = 2\n",
    "    UNKNOWN = 3"
   ]
  },
  {
   "cell_type": "code",
   "execution_count": 6,
   "metadata": {
    "collapsed": true
   },
   "outputs": [],
   "source": [
    "rows = companiesTable.findChildren(['th', 'tr'])"
   ]
  },
  {
   "cell_type": "code",
   "execution_count": 7,
   "metadata": {
    "collapsed": true
   },
   "outputs": [],
   "source": [
    "def parse_time_col(time_child):\n",
    "    if len(time_child.select('a')) == 0:\n",
    "        return Hours.UNKNOWN\n",
    "    \n",
    "    title = time_child.select('a')[0]['title']\n",
    "    if title == 'After Hours Quotes':\n",
    "        return Hours.NIGHT\n",
    "    if title == 'Pre-market Quotes':\n",
    "        return Hours.DAY\n",
    "    return Hours.UNKNOWN"
   ]
  },
  {
   "cell_type": "code",
   "execution_count": 8,
   "metadata": {
    "collapsed": true
   },
   "outputs": [],
   "source": [
    "from re import sub\n",
    "from decimal import Decimal\n",
    "\n",
    "def parse_decimal(money):\n",
    "    if money == '$n/a':\n",
    "        return None\n",
    "    return Decimal(money[1:])"
   ]
  },
  {
   "cell_type": "code",
   "execution_count": 9,
   "metadata": {
    "collapsed": true
   },
   "outputs": [],
   "source": [
    "import pandas as pd\n",
    "from datetime import datetime\n",
    "\n",
    "def parse_table():\n",
    "    column_titles = ['Time', 'Symbol', 'Reported Date', 'Quarter', 'ConsensusEPS', '# of Ests', 'Unknown', 'LastYearEPS', 'PercentSurprise']\n",
    "    df = pd.DataFrame(columns=column_titles)\n",
    "\n",
    "    row_marker = 0\n",
    "    for row in rows:\n",
    "        children = row.findChildren('td')\n",
    "        if len(children) == 0:\n",
    "            continue\n",
    "            \n",
    "        row_data = [column.get_text().strip() for column in children]\n",
    "        row_data[0] = parse_time_col(children[0])\n",
    "        row_data[2] = datetime.strptime(row_data[2], '%m/%d/%Y')\n",
    "        row_data[4] = parse_decimal(row_data[4])\n",
    "        row_data[5] = int(row_data[5])\n",
    "        if row_data[6] == 'n/a':\n",
    "            row_data[6] = None\n",
    "        else:\n",
    "            row_data[6] = datetime.strptime(row_data[6], '%m/%d/%Y')\n",
    "        row_data[7] = parse_decimal(row_data[7])\n",
    "            \n",
    "        df.loc[row_marker] = row_data\n",
    "        row_marker += 1\n",
    "\n",
    "    return df"
   ]
  },
  {
   "cell_type": "code",
   "execution_count": 10,
   "metadata": {},
   "outputs": [
    {
     "data": {
      "text/html": [
       "<div>\n",
       "<style>\n",
       "    .dataframe thead tr:only-child th {\n",
       "        text-align: right;\n",
       "    }\n",
       "\n",
       "    .dataframe thead th {\n",
       "        text-align: left;\n",
       "    }\n",
       "\n",
       "    .dataframe tbody tr th {\n",
       "        vertical-align: top;\n",
       "    }\n",
       "</style>\n",
       "<table border=\"1\" class=\"dataframe\">\n",
       "  <thead>\n",
       "    <tr style=\"text-align: right;\">\n",
       "      <th></th>\n",
       "      <th>Time</th>\n",
       "      <th>Symbol</th>\n",
       "      <th>Reported Date</th>\n",
       "      <th>Quarter</th>\n",
       "      <th>ConsensusEPS</th>\n",
       "      <th># of Ests</th>\n",
       "      <th>Unknown</th>\n",
       "      <th>LastYearEPS</th>\n",
       "      <th>PercentSurprise</th>\n",
       "    </tr>\n",
       "  </thead>\n",
       "  <tbody>\n",
       "    <tr>\n",
       "      <th>15</th>\n",
       "      <td>Hours.NIGHT</td>\n",
       "      <td>The Descartes Systems Group Inc. (DSGX) Market...</td>\n",
       "      <td>2017-11-29</td>\n",
       "      <td>Oct 2017</td>\n",
       "      <td>0.1</td>\n",
       "      <td>4</td>\n",
       "      <td>2016-11-30 00:00:00</td>\n",
       "      <td>0.08</td>\n",
       "      <td>Met</td>\n",
       "    </tr>\n",
       "    <tr>\n",
       "      <th>16</th>\n",
       "      <td>Hours.DAY</td>\n",
       "      <td>Tiffany &amp; Co. (TIF) Market Cap: $11.62B</td>\n",
       "      <td>2017-11-29</td>\n",
       "      <td>Oct 2017</td>\n",
       "      <td>0.76</td>\n",
       "      <td>10</td>\n",
       "      <td>2016-11-29 00:00:00</td>\n",
       "      <td>0.76</td>\n",
       "      <td>Met</td>\n",
       "    </tr>\n",
       "    <tr>\n",
       "      <th>17</th>\n",
       "      <td>Hours.NIGHT</td>\n",
       "      <td>Tilly's, Inc. (TLYS) Market Cap: $369.22M</td>\n",
       "      <td>2017-11-29</td>\n",
       "      <td>Oct 2017</td>\n",
       "      <td>0.21</td>\n",
       "      <td>3</td>\n",
       "      <td>2016-11-30 00:00:00</td>\n",
       "      <td>0.22</td>\n",
       "      <td>Met</td>\n",
       "    </tr>\n",
       "    <tr>\n",
       "      <th>18</th>\n",
       "      <td>Hours.NIGHT</td>\n",
       "      <td>Workday, Inc. (WDAY) Market Cap: $23.91B</td>\n",
       "      <td>2017-11-29</td>\n",
       "      <td>Oct 2017</td>\n",
       "      <td>-0.42</td>\n",
       "      <td>32</td>\n",
       "      <td>2016-12-01 00:00:00</td>\n",
       "      <td>-0.5</td>\n",
       "      <td>Met</td>\n",
       "    </tr>\n",
       "    <tr>\n",
       "      <th>19</th>\n",
       "      <td>Hours.DAY</td>\n",
       "      <td>Yintech Investment Holdings Limited (YIN) Mark...</td>\n",
       "      <td>2017-11-29</td>\n",
       "      <td>Sep 2017</td>\n",
       "      <td>None</td>\n",
       "      <td>0</td>\n",
       "      <td>2016-11-15 00:00:00</td>\n",
       "      <td>0.56</td>\n",
       "      <td>Met</td>\n",
       "    </tr>\n",
       "  </tbody>\n",
       "</table>\n",
       "</div>"
      ],
      "text/plain": [
       "           Time                                             Symbol  \\\n",
       "15  Hours.NIGHT  The Descartes Systems Group Inc. (DSGX) Market...   \n",
       "16    Hours.DAY            Tiffany & Co. (TIF) Market Cap: $11.62B   \n",
       "17  Hours.NIGHT          Tilly's, Inc. (TLYS) Market Cap: $369.22M   \n",
       "18  Hours.NIGHT           Workday, Inc. (WDAY) Market Cap: $23.91B   \n",
       "19    Hours.DAY  Yintech Investment Holdings Limited (YIN) Mark...   \n",
       "\n",
       "   Reported Date   Quarter ConsensusEPS # of Ests              Unknown  \\\n",
       "15    2017-11-29  Oct 2017          0.1         4  2016-11-30 00:00:00   \n",
       "16    2017-11-29  Oct 2017         0.76        10  2016-11-29 00:00:00   \n",
       "17    2017-11-29  Oct 2017         0.21         3  2016-11-30 00:00:00   \n",
       "18    2017-11-29  Oct 2017        -0.42        32  2016-12-01 00:00:00   \n",
       "19    2017-11-29  Sep 2017         None         0  2016-11-15 00:00:00   \n",
       "\n",
       "   LastYearEPS PercentSurprise  \n",
       "15        0.08             Met  \n",
       "16        0.76             Met  \n",
       "17        0.22             Met  \n",
       "18        -0.5             Met  \n",
       "19        0.56             Met  "
      ]
     },
     "execution_count": 10,
     "metadata": {},
     "output_type": "execute_result"
    }
   ],
   "source": [
    "df = parse_table()\n",
    "df.tail()"
   ]
  },
  {
   "cell_type": "code",
   "execution_count": 11,
   "metadata": {},
   "outputs": [
    {
     "data": {
      "text/html": [
       "<div>\n",
       "<style>\n",
       "    .dataframe thead tr:only-child th {\n",
       "        text-align: right;\n",
       "    }\n",
       "\n",
       "    .dataframe thead th {\n",
       "        text-align: left;\n",
       "    }\n",
       "\n",
       "    .dataframe tbody tr th {\n",
       "        vertical-align: top;\n",
       "    }\n",
       "</style>\n",
       "<table border=\"1\" class=\"dataframe\">\n",
       "  <thead>\n",
       "    <tr style=\"text-align: right;\">\n",
       "      <th></th>\n",
       "      <th>Time</th>\n",
       "      <th>Symbol</th>\n",
       "      <th>Reported Date</th>\n",
       "      <th>Quarter</th>\n",
       "      <th>ConsensusEPS</th>\n",
       "      <th># of Ests</th>\n",
       "      <th>Unknown</th>\n",
       "      <th>LastYearEPS</th>\n",
       "      <th>PercentSurprise</th>\n",
       "    </tr>\n",
       "  </thead>\n",
       "  <tbody>\n",
       "    <tr>\n",
       "      <th>0</th>\n",
       "      <td>Hours.NIGHT</td>\n",
       "      <td>At Home Group Inc. (HOME) Market Cap: $1.31B</td>\n",
       "      <td>2017-11-29</td>\n",
       "      <td>Oct 2017</td>\n",
       "      <td>0.04</td>\n",
       "      <td>5</td>\n",
       "      <td>2016-12-06 00:00:00</td>\n",
       "      <td>0.03</td>\n",
       "      <td>Met</td>\n",
       "    </tr>\n",
       "    <tr>\n",
       "      <th>2</th>\n",
       "      <td>Hours.NIGHT</td>\n",
       "      <td>Box, Inc. (BOX) Market Cap: $3.08B</td>\n",
       "      <td>2017-11-29</td>\n",
       "      <td>Oct 2017</td>\n",
       "      <td>-0.29</td>\n",
       "      <td>5</td>\n",
       "      <td>2016-11-30 00:00:00</td>\n",
       "      <td>-0.3</td>\n",
       "      <td>Met</td>\n",
       "    </tr>\n",
       "    <tr>\n",
       "      <th>5</th>\n",
       "      <td>Hours.NIGHT</td>\n",
       "      <td>La-Z-Boy Incorporated (LZB) Market Cap: $1.35B</td>\n",
       "      <td>2017-11-29</td>\n",
       "      <td>Oct 2017</td>\n",
       "      <td>0.46</td>\n",
       "      <td>3</td>\n",
       "      <td>2016-11-30 00:00:00</td>\n",
       "      <td>0.42</td>\n",
       "      <td>Met</td>\n",
       "    </tr>\n",
       "    <tr>\n",
       "      <th>6</th>\n",
       "      <td>Hours.NIGHT</td>\n",
       "      <td>Monmouth Real Estate Investment Corporation (M...</td>\n",
       "      <td>2017-11-29</td>\n",
       "      <td>Sep 2017</td>\n",
       "      <td>0.21</td>\n",
       "      <td>3</td>\n",
       "      <td>2016-11-28 00:00:00</td>\n",
       "      <td>0.18</td>\n",
       "      <td>Met</td>\n",
       "    </tr>\n",
       "    <tr>\n",
       "      <th>10</th>\n",
       "      <td>Hours.NIGHT</td>\n",
       "      <td>PVH Corp. (PVH) Market Cap: $10.47B</td>\n",
       "      <td>2017-11-29</td>\n",
       "      <td>Oct 2017</td>\n",
       "      <td>2.91</td>\n",
       "      <td>7</td>\n",
       "      <td>2016-11-30 00:00:00</td>\n",
       "      <td>2.6</td>\n",
       "      <td>Met</td>\n",
       "    </tr>\n",
       "    <tr>\n",
       "      <th>13</th>\n",
       "      <td>Hours.NIGHT</td>\n",
       "      <td>Semtech Corporation (SMTC) Market Cap: $2.57B</td>\n",
       "      <td>2017-11-29</td>\n",
       "      <td>Oct 2017</td>\n",
       "      <td>0.34</td>\n",
       "      <td>1</td>\n",
       "      <td>2016-11-30 00:00:00</td>\n",
       "      <td>0.28</td>\n",
       "      <td>Met</td>\n",
       "    </tr>\n",
       "    <tr>\n",
       "      <th>15</th>\n",
       "      <td>Hours.NIGHT</td>\n",
       "      <td>The Descartes Systems Group Inc. (DSGX) Market...</td>\n",
       "      <td>2017-11-29</td>\n",
       "      <td>Oct 2017</td>\n",
       "      <td>0.1</td>\n",
       "      <td>4</td>\n",
       "      <td>2016-11-30 00:00:00</td>\n",
       "      <td>0.08</td>\n",
       "      <td>Met</td>\n",
       "    </tr>\n",
       "    <tr>\n",
       "      <th>18</th>\n",
       "      <td>Hours.NIGHT</td>\n",
       "      <td>Workday, Inc. (WDAY) Market Cap: $23.91B</td>\n",
       "      <td>2017-11-29</td>\n",
       "      <td>Oct 2017</td>\n",
       "      <td>-0.42</td>\n",
       "      <td>32</td>\n",
       "      <td>2016-12-01 00:00:00</td>\n",
       "      <td>-0.5</td>\n",
       "      <td>Met</td>\n",
       "    </tr>\n",
       "  </tbody>\n",
       "</table>\n",
       "</div>"
      ],
      "text/plain": [
       "           Time                                             Symbol  \\\n",
       "0   Hours.NIGHT       At Home Group Inc. (HOME) Market Cap: $1.31B   \n",
       "2   Hours.NIGHT                 Box, Inc. (BOX) Market Cap: $3.08B   \n",
       "5   Hours.NIGHT     La-Z-Boy Incorporated (LZB) Market Cap: $1.35B   \n",
       "6   Hours.NIGHT  Monmouth Real Estate Investment Corporation (M...   \n",
       "10  Hours.NIGHT                PVH Corp. (PVH) Market Cap: $10.47B   \n",
       "13  Hours.NIGHT      Semtech Corporation (SMTC) Market Cap: $2.57B   \n",
       "15  Hours.NIGHT  The Descartes Systems Group Inc. (DSGX) Market...   \n",
       "18  Hours.NIGHT           Workday, Inc. (WDAY) Market Cap: $23.91B   \n",
       "\n",
       "   Reported Date   Quarter ConsensusEPS # of Ests              Unknown  \\\n",
       "0     2017-11-29  Oct 2017         0.04         5  2016-12-06 00:00:00   \n",
       "2     2017-11-29  Oct 2017        -0.29         5  2016-11-30 00:00:00   \n",
       "5     2017-11-29  Oct 2017         0.46         3  2016-11-30 00:00:00   \n",
       "6     2017-11-29  Sep 2017         0.21         3  2016-11-28 00:00:00   \n",
       "10    2017-11-29  Oct 2017         2.91         7  2016-11-30 00:00:00   \n",
       "13    2017-11-29  Oct 2017         0.34         1  2016-11-30 00:00:00   \n",
       "15    2017-11-29  Oct 2017          0.1         4  2016-11-30 00:00:00   \n",
       "18    2017-11-29  Oct 2017        -0.42        32  2016-12-01 00:00:00   \n",
       "\n",
       "   LastYearEPS PercentSurprise  \n",
       "0         0.03             Met  \n",
       "2         -0.3             Met  \n",
       "5         0.42             Met  \n",
       "6         0.18             Met  \n",
       "10         2.6             Met  \n",
       "13        0.28             Met  \n",
       "15        0.08             Met  \n",
       "18        -0.5             Met  "
      ]
     },
     "execution_count": 11,
     "metadata": {},
     "output_type": "execute_result"
    }
   ],
   "source": [
    "filtered_df = df[(df['Time'] == Hours.NIGHT) & (df['ConsensusEPS'] > df['LastYearEPS'])]\n",
    "# filtered_df = df[(df['Time'] == Hours.DAY) & (df['ConsensusEPS'] > df['LastYearEPS'])]\n",
    "filtered_df"
   ]
  },
  {
   "cell_type": "code",
   "execution_count": 12,
   "metadata": {},
   "outputs": [
    {
     "name": "stdout",
     "output_type": "stream",
     "text": [
      "8\n"
     ]
    }
   ],
   "source": [
    "symbols = [s[s.find(\"(\")+1:s.find(\")\")] for s in filtered_df['Symbol']]\n",
    "print len(symbols)"
   ]
  },
  {
   "cell_type": "code",
   "execution_count": 13,
   "metadata": {},
   "outputs": [
    {
     "data": {
      "text/plain": [
       "[u'HOME', u'BOX', u'LZB', u'MNR', u'PVH', u'SMTC', u'DSGX', u'WDAY']"
      ]
     },
     "execution_count": 13,
     "metadata": {},
     "output_type": "execute_result"
    }
   ],
   "source": [
    "symbols"
   ]
  },
  {
   "cell_type": "code",
   "execution_count": 14,
   "metadata": {},
   "outputs": [
    {
     "data": {
      "text/html": [
       "<div>\n",
       "<style>\n",
       "    .dataframe thead tr:only-child th {\n",
       "        text-align: right;\n",
       "    }\n",
       "\n",
       "    .dataframe thead th {\n",
       "        text-align: left;\n",
       "    }\n",
       "\n",
       "    .dataframe tbody tr th {\n",
       "        vertical-align: top;\n",
       "    }\n",
       "</style>\n",
       "<table border=\"1\" class=\"dataframe\">\n",
       "  <thead>\n",
       "    <tr style=\"text-align: right;\">\n",
       "      <th></th>\n",
       "      <th>Time</th>\n",
       "      <th>Symbol</th>\n",
       "      <th>Reported Date</th>\n",
       "      <th>Quarter</th>\n",
       "      <th>ConsensusEPS</th>\n",
       "      <th># of Ests</th>\n",
       "      <th>Unknown</th>\n",
       "      <th>LastYearEPS</th>\n",
       "      <th>PercentSurprise</th>\n",
       "    </tr>\n",
       "  </thead>\n",
       "  <tbody>\n",
       "    <tr>\n",
       "      <th>count</th>\n",
       "      <td>8</td>\n",
       "      <td>8</td>\n",
       "      <td>8</td>\n",
       "      <td>8</td>\n",
       "      <td>8</td>\n",
       "      <td>8.0</td>\n",
       "      <td>8</td>\n",
       "      <td>8</td>\n",
       "      <td>8</td>\n",
       "    </tr>\n",
       "    <tr>\n",
       "      <th>unique</th>\n",
       "      <td>1</td>\n",
       "      <td>8</td>\n",
       "      <td>1</td>\n",
       "      <td>2</td>\n",
       "      <td>8</td>\n",
       "      <td>6.0</td>\n",
       "      <td>4</td>\n",
       "      <td>8</td>\n",
       "      <td>1</td>\n",
       "    </tr>\n",
       "    <tr>\n",
       "      <th>top</th>\n",
       "      <td>Hours.NIGHT</td>\n",
       "      <td>Box, Inc. (BOX) Market Cap: $3.08B</td>\n",
       "      <td>2017-11-29 00:00:00</td>\n",
       "      <td>Oct 2017</td>\n",
       "      <td>-0.42</td>\n",
       "      <td>5.0</td>\n",
       "      <td>2016-11-30 00:00:00</td>\n",
       "      <td>0.28</td>\n",
       "      <td>Met</td>\n",
       "    </tr>\n",
       "    <tr>\n",
       "      <th>freq</th>\n",
       "      <td>8</td>\n",
       "      <td>1</td>\n",
       "      <td>8</td>\n",
       "      <td>7</td>\n",
       "      <td>1</td>\n",
       "      <td>2.0</td>\n",
       "      <td>5</td>\n",
       "      <td>1</td>\n",
       "      <td>8</td>\n",
       "    </tr>\n",
       "    <tr>\n",
       "      <th>first</th>\n",
       "      <td>NaN</td>\n",
       "      <td>NaN</td>\n",
       "      <td>2017-11-29 00:00:00</td>\n",
       "      <td>NaN</td>\n",
       "      <td>NaN</td>\n",
       "      <td>NaN</td>\n",
       "      <td>NaN</td>\n",
       "      <td>NaN</td>\n",
       "      <td>NaN</td>\n",
       "    </tr>\n",
       "    <tr>\n",
       "      <th>last</th>\n",
       "      <td>NaN</td>\n",
       "      <td>NaN</td>\n",
       "      <td>2017-11-29 00:00:00</td>\n",
       "      <td>NaN</td>\n",
       "      <td>NaN</td>\n",
       "      <td>NaN</td>\n",
       "      <td>NaN</td>\n",
       "      <td>NaN</td>\n",
       "      <td>NaN</td>\n",
       "    </tr>\n",
       "  </tbody>\n",
       "</table>\n",
       "</div>"
      ],
      "text/plain": [
       "               Time                              Symbol        Reported Date  \\\n",
       "count             8                                   8                    8   \n",
       "unique            1                                   8                    1   \n",
       "top     Hours.NIGHT  Box, Inc. (BOX) Market Cap: $3.08B  2017-11-29 00:00:00   \n",
       "freq              8                                   1                    8   \n",
       "first           NaN                                 NaN  2017-11-29 00:00:00   \n",
       "last            NaN                                 NaN  2017-11-29 00:00:00   \n",
       "\n",
       "         Quarter ConsensusEPS  # of Ests              Unknown LastYearEPS  \\\n",
       "count          8            8        8.0                    8           8   \n",
       "unique         2            8        6.0                    4           8   \n",
       "top     Oct 2017        -0.42        5.0  2016-11-30 00:00:00        0.28   \n",
       "freq           7            1        2.0                    5           1   \n",
       "first        NaN          NaN        NaN                  NaN         NaN   \n",
       "last         NaN          NaN        NaN                  NaN         NaN   \n",
       "\n",
       "       PercentSurprise  \n",
       "count                8  \n",
       "unique               1  \n",
       "top                Met  \n",
       "freq                 8  \n",
       "first              NaN  \n",
       "last               NaN  "
      ]
     },
     "execution_count": 14,
     "metadata": {},
     "output_type": "execute_result"
    }
   ],
   "source": [
    "filtered_df.describe()"
   ]
  },
  {
   "cell_type": "code",
   "execution_count": 16,
   "metadata": {},
   "outputs": [
    {
     "name": "stdout",
     "output_type": "stream",
     "text": [
      "['hello']\n"
     ]
    }
   ],
   "source": [
    "s = [\"hello\"]\n",
    "print s"
   ]
  },
  {
   "cell_type": "code",
   "execution_count": null,
   "metadata": {
    "collapsed": true
   },
   "outputs": [],
   "source": []
  }
 ],
 "metadata": {
  "kernelspec": {
   "display_name": "Python 2",
   "language": "python",
   "name": "python2"
  },
  "language_info": {
   "codemirror_mode": {
    "name": "ipython",
    "version": 2
   },
   "file_extension": ".py",
   "mimetype": "text/x-python",
   "name": "python",
   "nbconvert_exporter": "python",
   "pygments_lexer": "ipython2",
   "version": "2.7.14"
  }
 },
 "nbformat": 4,
 "nbformat_minor": 2
}
