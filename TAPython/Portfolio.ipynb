{
 "cells": [
  {
   "cell_type": "code",
   "execution_count": 1,
   "metadata": {
    "collapsed": true
   },
   "outputs": [],
   "source": [
    "import numpy as np\n",
    "import matplotlib.pyplot as plt\n",
    "import pandas as pd\n",
    "from pandas_datareader import data, wb\n",
    "import scipy.optimize as sco\n",
    "import scipy.interpolate as itp"
   ]
  },
  {
   "cell_type": "code",
   "execution_count": 2,
   "metadata": {},
   "outputs": [
    {
     "name": "stdout",
     "output_type": "stream",
     "text": [
      "Populating the interactive namespace from numpy and matplotlib\n"
     ]
    }
   ],
   "source": [
    "%matplotlib inline\n",
    "%pylab inline\n",
    "pylab.rcParams['figure.figsize'] = (15, 10)"
   ]
  },
  {
   "cell_type": "code",
   "execution_count": 3,
   "metadata": {},
   "outputs": [],
   "source": [
    "symbols = [u'ED', u'PLUS', u'ERI', u'FTAI']\n",
    "noa = len(symbols)"
   ]
  },
  {
   "cell_type": "code",
   "execution_count": 4,
   "metadata": {
    "collapsed": true
   },
   "outputs": [],
   "source": [
    "from datetime import datetime, timedelta\n",
    "N = 200\n",
    "days_ago_N = datetime.now() - timedelta(days=N)\n",
    "days_ago_N_string = days_ago_N.strftime('%Y-%m-%d')"
   ]
  },
  {
   "cell_type": "code",
   "execution_count": 5,
   "metadata": {},
   "outputs": [
    {
     "name": "stdout",
     "output_type": "stream",
     "text": [
      "ED\n",
      "PLUS\n",
      "ERI\n",
      "FTAI\n",
      "Wall time: 1.42 s\n"
     ]
    }
   ],
   "source": [
    "%%time\n",
    "df = pd.DataFrame()\n",
    "start = days_ago_N_string\n",
    "for symbol in symbols:\n",
    "    print(symbol)\n",
    "    df[symbol] = data.DataReader(symbol, 'google', start)['Close']"
   ]
  },
  {
   "cell_type": "code",
   "execution_count": 6,
   "metadata": {},
   "outputs": [
    {
     "data": {
      "text/html": [
       "<div>\n",
       "<style>\n",
       "    .dataframe thead tr:only-child th {\n",
       "        text-align: right;\n",
       "    }\n",
       "\n",
       "    .dataframe thead th {\n",
       "        text-align: left;\n",
       "    }\n",
       "\n",
       "    .dataframe tbody tr th {\n",
       "        vertical-align: top;\n",
       "    }\n",
       "</style>\n",
       "<table border=\"1\" class=\"dataframe\">\n",
       "  <thead>\n",
       "    <tr style=\"text-align: right;\">\n",
       "      <th></th>\n",
       "      <th>ED</th>\n",
       "      <th>PLUS</th>\n",
       "      <th>ERI</th>\n",
       "      <th>FTAI</th>\n",
       "    </tr>\n",
       "    <tr>\n",
       "      <th>Date</th>\n",
       "      <th></th>\n",
       "      <th></th>\n",
       "      <th></th>\n",
       "      <th></th>\n",
       "    </tr>\n",
       "  </thead>\n",
       "  <tbody>\n",
       "    <tr>\n",
       "      <th>2016-11-03</th>\n",
       "      <td>73.87</td>\n",
       "      <td>45.30</td>\n",
       "      <td>11.05</td>\n",
       "      <td>12.45</td>\n",
       "    </tr>\n",
       "    <tr>\n",
       "      <th>2016-11-04</th>\n",
       "      <td>73.75</td>\n",
       "      <td>48.85</td>\n",
       "      <td>10.80</td>\n",
       "      <td>12.92</td>\n",
       "    </tr>\n",
       "    <tr>\n",
       "      <th>2016-11-07</th>\n",
       "      <td>74.54</td>\n",
       "      <td>48.88</td>\n",
       "      <td>10.80</td>\n",
       "      <td>13.49</td>\n",
       "    </tr>\n",
       "    <tr>\n",
       "      <th>2016-11-08</th>\n",
       "      <td>75.33</td>\n",
       "      <td>47.68</td>\n",
       "      <td>11.30</td>\n",
       "      <td>13.10</td>\n",
       "    </tr>\n",
       "    <tr>\n",
       "      <th>2016-11-09</th>\n",
       "      <td>72.26</td>\n",
       "      <td>48.45</td>\n",
       "      <td>11.65</td>\n",
       "      <td>13.04</td>\n",
       "    </tr>\n",
       "  </tbody>\n",
       "</table>\n",
       "</div>"
      ],
      "text/plain": [
       "               ED   PLUS    ERI   FTAI\n",
       "Date                                  \n",
       "2016-11-03  73.87  45.30  11.05  12.45\n",
       "2016-11-04  73.75  48.85  10.80  12.92\n",
       "2016-11-07  74.54  48.88  10.80  13.49\n",
       "2016-11-08  75.33  47.68  11.30  13.10\n",
       "2016-11-09  72.26  48.45  11.65  13.04"
      ]
     },
     "execution_count": 6,
     "metadata": {},
     "output_type": "execute_result"
    }
   ],
   "source": [
    "df.head()"
   ]
  },
  {
   "cell_type": "code",
   "execution_count": 7,
   "metadata": {},
   "outputs": [
    {
     "name": "stderr",
     "output_type": "stream",
     "text": [
      "C:\\ProgramData\\Anaconda2\\lib\\site-packages\\ipykernel_launcher.py:1: DeprecationWarning: \n",
      ".ix is deprecated. Please use\n",
      ".loc for label based indexing or\n",
      ".iloc for positional indexing\n",
      "\n",
      "See the documentation here:\n",
      "http://pandas.pydata.org/pandas-docs/stable/indexing.html#ix-indexer-is-deprecated\n",
      "  \"\"\"Entry point for launching an IPython kernel.\n"
     ]
    },
    {
     "data": {
      "text/plain": [
       "<matplotlib.axes._subplots.AxesSubplot at 0xe616da0>"
      ]
     },
     "execution_count": 7,
     "metadata": {},
     "output_type": "execute_result"
    },
    {
     "data": {
      "image/png": "[encoded data removed]",
      "text/plain": [
       "<matplotlib.figure.Figure at 0xe4f2fd0>"
      ]
     },
     "metadata": {},
     "output_type": "display_data"
    }
   ],
   "source": [
    "(df / df.ix[0] * 100).plot(figsize=(10,6))"
   ]
  },
  {
   "cell_type": "code",
   "execution_count": 8,
   "metadata": {},
   "outputs": [],
   "source": [
    "rets = np.log(df / df.shift(1))"
   ]
  },
  {
   "cell_type": "code",
   "execution_count": 9,
   "metadata": {},
   "outputs": [
    {
     "data": {
      "text/html": [
       "<div>\n",
       "<style>\n",
       "    .dataframe thead tr:only-child th {\n",
       "        text-align: right;\n",
       "    }\n",
       "\n",
       "    .dataframe thead th {\n",
       "        text-align: left;\n",
       "    }\n",
       "\n",
       "    .dataframe tbody tr th {\n",
       "        vertical-align: top;\n",
       "    }\n",
       "</style>\n",
       "<table border=\"1\" class=\"dataframe\">\n",
       "  <thead>\n",
       "    <tr style=\"text-align: right;\">\n",
       "      <th></th>\n",
       "      <th>ED</th>\n",
       "      <th>PLUS</th>\n",
       "      <th>ERI</th>\n",
       "      <th>FTAI</th>\n",
       "    </tr>\n",
       "    <tr>\n",
       "      <th>Date</th>\n",
       "      <th></th>\n",
       "      <th></th>\n",
       "      <th></th>\n",
       "      <th></th>\n",
       "    </tr>\n",
       "  </thead>\n",
       "  <tbody>\n",
       "    <tr>\n",
       "      <th>2016-11-03</th>\n",
       "      <td>73.87</td>\n",
       "      <td>45.30</td>\n",
       "      <td>11.05</td>\n",
       "      <td>12.45</td>\n",
       "    </tr>\n",
       "    <tr>\n",
       "      <th>2016-11-04</th>\n",
       "      <td>73.75</td>\n",
       "      <td>48.85</td>\n",
       "      <td>10.80</td>\n",
       "      <td>12.92</td>\n",
       "    </tr>\n",
       "    <tr>\n",
       "      <th>2016-11-07</th>\n",
       "      <td>74.54</td>\n",
       "      <td>48.88</td>\n",
       "      <td>10.80</td>\n",
       "      <td>13.49</td>\n",
       "    </tr>\n",
       "    <tr>\n",
       "      <th>2016-11-08</th>\n",
       "      <td>75.33</td>\n",
       "      <td>47.68</td>\n",
       "      <td>11.30</td>\n",
       "      <td>13.10</td>\n",
       "    </tr>\n",
       "    <tr>\n",
       "      <th>2016-11-09</th>\n",
       "      <td>72.26</td>\n",
       "      <td>48.45</td>\n",
       "      <td>11.65</td>\n",
       "      <td>13.04</td>\n",
       "    </tr>\n",
       "    <tr>\n",
       "      <th>2016-11-10</th>\n",
       "      <td>70.69</td>\n",
       "      <td>49.80</td>\n",
       "      <td>11.95</td>\n",
       "      <td>13.49</td>\n",
       "    </tr>\n",
       "    <tr>\n",
       "      <th>2016-11-11</th>\n",
       "      <td>70.49</td>\n",
       "      <td>52.00</td>\n",
       "      <td>12.60</td>\n",
       "      <td>13.29</td>\n",
       "    </tr>\n",
       "    <tr>\n",
       "      <th>2016-11-14</th>\n",
       "      <td>69.55</td>\n",
       "      <td>51.80</td>\n",
       "      <td>12.85</td>\n",
       "      <td>13.52</td>\n",
       "    </tr>\n",
       "    <tr>\n",
       "      <th>2016-11-15</th>\n",
       "      <td>70.57</td>\n",
       "      <td>51.72</td>\n",
       "      <td>13.00</td>\n",
       "      <td>13.43</td>\n",
       "    </tr>\n",
       "    <tr>\n",
       "      <th>2016-11-16</th>\n",
       "      <td>69.84</td>\n",
       "      <td>52.02</td>\n",
       "      <td>13.15</td>\n",
       "      <td>13.30</td>\n",
       "    </tr>\n",
       "    <tr>\n",
       "      <th>2016-11-17</th>\n",
       "      <td>70.04</td>\n",
       "      <td>52.78</td>\n",
       "      <td>13.85</td>\n",
       "      <td>13.46</td>\n",
       "    </tr>\n",
       "    <tr>\n",
       "      <th>2016-11-18</th>\n",
       "      <td>69.53</td>\n",
       "      <td>53.22</td>\n",
       "      <td>13.55</td>\n",
       "      <td>13.71</td>\n",
       "    </tr>\n",
       "    <tr>\n",
       "      <th>2016-11-21</th>\n",
       "      <td>70.10</td>\n",
       "      <td>53.92</td>\n",
       "      <td>13.35</td>\n",
       "      <td>13.49</td>\n",
       "    </tr>\n",
       "    <tr>\n",
       "      <th>2016-11-22</th>\n",
       "      <td>70.32</td>\n",
       "      <td>55.62</td>\n",
       "      <td>13.40</td>\n",
       "      <td>13.37</td>\n",
       "    </tr>\n",
       "    <tr>\n",
       "      <th>2016-11-23</th>\n",
       "      <td>69.55</td>\n",
       "      <td>55.58</td>\n",
       "      <td>13.60</td>\n",
       "      <td>13.39</td>\n",
       "    </tr>\n",
       "    <tr>\n",
       "      <th>2016-11-25</th>\n",
       "      <td>70.66</td>\n",
       "      <td>55.98</td>\n",
       "      <td>13.45</td>\n",
       "      <td>13.50</td>\n",
       "    </tr>\n",
       "    <tr>\n",
       "      <th>2016-11-28</th>\n",
       "      <td>72.65</td>\n",
       "      <td>55.98</td>\n",
       "      <td>13.20</td>\n",
       "      <td>13.34</td>\n",
       "    </tr>\n",
       "    <tr>\n",
       "      <th>2016-11-29</th>\n",
       "      <td>72.65</td>\n",
       "      <td>55.92</td>\n",
       "      <td>13.35</td>\n",
       "      <td>13.40</td>\n",
       "    </tr>\n",
       "    <tr>\n",
       "      <th>2016-11-30</th>\n",
       "      <td>69.77</td>\n",
       "      <td>55.60</td>\n",
       "      <td>13.75</td>\n",
       "      <td>13.40</td>\n",
       "    </tr>\n",
       "    <tr>\n",
       "      <th>2016-12-01</th>\n",
       "      <td>69.47</td>\n",
       "      <td>55.62</td>\n",
       "      <td>15.25</td>\n",
       "      <td>13.49</td>\n",
       "    </tr>\n",
       "    <tr>\n",
       "      <th>2016-12-02</th>\n",
       "      <td>69.69</td>\n",
       "      <td>55.78</td>\n",
       "      <td>15.20</td>\n",
       "      <td>13.40</td>\n",
       "    </tr>\n",
       "    <tr>\n",
       "      <th>2016-12-05</th>\n",
       "      <td>69.72</td>\n",
       "      <td>56.60</td>\n",
       "      <td>15.75</td>\n",
       "      <td>13.66</td>\n",
       "    </tr>\n",
       "    <tr>\n",
       "      <th>2016-12-06</th>\n",
       "      <td>69.15</td>\n",
       "      <td>56.78</td>\n",
       "      <td>15.95</td>\n",
       "      <td>13.66</td>\n",
       "    </tr>\n",
       "    <tr>\n",
       "      <th>2016-12-07</th>\n",
       "      <td>70.41</td>\n",
       "      <td>56.85</td>\n",
       "      <td>16.60</td>\n",
       "      <td>13.67</td>\n",
       "    </tr>\n",
       "    <tr>\n",
       "      <th>2016-12-08</th>\n",
       "      <td>70.58</td>\n",
       "      <td>59.00</td>\n",
       "      <td>16.55</td>\n",
       "      <td>13.62</td>\n",
       "    </tr>\n",
       "    <tr>\n",
       "      <th>2016-12-09</th>\n",
       "      <td>71.44</td>\n",
       "      <td>58.55</td>\n",
       "      <td>16.60</td>\n",
       "      <td>13.70</td>\n",
       "    </tr>\n",
       "    <tr>\n",
       "      <th>2016-12-12</th>\n",
       "      <td>72.82</td>\n",
       "      <td>57.22</td>\n",
       "      <td>16.00</td>\n",
       "      <td>13.62</td>\n",
       "    </tr>\n",
       "    <tr>\n",
       "      <th>2016-12-13</th>\n",
       "      <td>73.28</td>\n",
       "      <td>57.85</td>\n",
       "      <td>16.35</td>\n",
       "      <td>13.83</td>\n",
       "    </tr>\n",
       "    <tr>\n",
       "      <th>2016-12-14</th>\n",
       "      <td>71.21</td>\n",
       "      <td>58.10</td>\n",
       "      <td>16.45</td>\n",
       "      <td>13.39</td>\n",
       "    </tr>\n",
       "    <tr>\n",
       "      <th>2016-12-15</th>\n",
       "      <td>71.75</td>\n",
       "      <td>57.88</td>\n",
       "      <td>16.40</td>\n",
       "      <td>13.35</td>\n",
       "    </tr>\n",
       "    <tr>\n",
       "      <th>...</th>\n",
       "      <td>...</td>\n",
       "      <td>...</td>\n",
       "      <td>...</td>\n",
       "      <td>...</td>\n",
       "    </tr>\n",
       "    <tr>\n",
       "      <th>2017-09-21</th>\n",
       "      <td>82.43</td>\n",
       "      <td>87.55</td>\n",
       "      <td>25.10</td>\n",
       "      <td>17.93</td>\n",
       "    </tr>\n",
       "    <tr>\n",
       "      <th>2017-09-22</th>\n",
       "      <td>81.59</td>\n",
       "      <td>88.60</td>\n",
       "      <td>24.72</td>\n",
       "      <td>17.79</td>\n",
       "    </tr>\n",
       "    <tr>\n",
       "      <th>2017-09-25</th>\n",
       "      <td>82.24</td>\n",
       "      <td>87.95</td>\n",
       "      <td>24.40</td>\n",
       "      <td>17.92</td>\n",
       "    </tr>\n",
       "    <tr>\n",
       "      <th>2017-09-26</th>\n",
       "      <td>81.84</td>\n",
       "      <td>87.70</td>\n",
       "      <td>24.55</td>\n",
       "      <td>17.98</td>\n",
       "    </tr>\n",
       "    <tr>\n",
       "      <th>2017-09-27</th>\n",
       "      <td>80.62</td>\n",
       "      <td>90.25</td>\n",
       "      <td>25.20</td>\n",
       "      <td>17.97</td>\n",
       "    </tr>\n",
       "    <tr>\n",
       "      <th>2017-09-28</th>\n",
       "      <td>80.71</td>\n",
       "      <td>93.05</td>\n",
       "      <td>25.45</td>\n",
       "      <td>18.06</td>\n",
       "    </tr>\n",
       "    <tr>\n",
       "      <th>2017-09-29</th>\n",
       "      <td>80.68</td>\n",
       "      <td>92.45</td>\n",
       "      <td>25.65</td>\n",
       "      <td>18.04</td>\n",
       "    </tr>\n",
       "    <tr>\n",
       "      <th>2017-10-02</th>\n",
       "      <td>81.11</td>\n",
       "      <td>94.45</td>\n",
       "      <td>25.90</td>\n",
       "      <td>18.13</td>\n",
       "    </tr>\n",
       "    <tr>\n",
       "      <th>2017-10-03</th>\n",
       "      <td>80.90</td>\n",
       "      <td>95.45</td>\n",
       "      <td>26.65</td>\n",
       "      <td>17.96</td>\n",
       "    </tr>\n",
       "    <tr>\n",
       "      <th>2017-10-04</th>\n",
       "      <td>81.78</td>\n",
       "      <td>95.20</td>\n",
       "      <td>26.75</td>\n",
       "      <td>17.82</td>\n",
       "    </tr>\n",
       "    <tr>\n",
       "      <th>2017-10-05</th>\n",
       "      <td>81.77</td>\n",
       "      <td>94.25</td>\n",
       "      <td>26.95</td>\n",
       "      <td>17.98</td>\n",
       "    </tr>\n",
       "    <tr>\n",
       "      <th>2017-10-06</th>\n",
       "      <td>81.56</td>\n",
       "      <td>93.40</td>\n",
       "      <td>26.40</td>\n",
       "      <td>17.67</td>\n",
       "    </tr>\n",
       "    <tr>\n",
       "      <th>2017-10-09</th>\n",
       "      <td>81.49</td>\n",
       "      <td>94.85</td>\n",
       "      <td>26.10</td>\n",
       "      <td>17.52</td>\n",
       "    </tr>\n",
       "    <tr>\n",
       "      <th>2017-10-10</th>\n",
       "      <td>82.40</td>\n",
       "      <td>96.05</td>\n",
       "      <td>26.10</td>\n",
       "      <td>17.80</td>\n",
       "    </tr>\n",
       "    <tr>\n",
       "      <th>2017-10-11</th>\n",
       "      <td>82.92</td>\n",
       "      <td>96.65</td>\n",
       "      <td>26.35</td>\n",
       "      <td>17.58</td>\n",
       "    </tr>\n",
       "    <tr>\n",
       "      <th>2017-10-12</th>\n",
       "      <td>83.53</td>\n",
       "      <td>96.25</td>\n",
       "      <td>26.15</td>\n",
       "      <td>17.88</td>\n",
       "    </tr>\n",
       "    <tr>\n",
       "      <th>2017-10-13</th>\n",
       "      <td>83.08</td>\n",
       "      <td>95.95</td>\n",
       "      <td>26.20</td>\n",
       "      <td>18.25</td>\n",
       "    </tr>\n",
       "    <tr>\n",
       "      <th>2017-10-16</th>\n",
       "      <td>82.85</td>\n",
       "      <td>96.75</td>\n",
       "      <td>26.65</td>\n",
       "      <td>18.50</td>\n",
       "    </tr>\n",
       "    <tr>\n",
       "      <th>2017-10-17</th>\n",
       "      <td>83.56</td>\n",
       "      <td>95.65</td>\n",
       "      <td>26.50</td>\n",
       "      <td>18.37</td>\n",
       "    </tr>\n",
       "    <tr>\n",
       "      <th>2017-10-18</th>\n",
       "      <td>83.78</td>\n",
       "      <td>94.35</td>\n",
       "      <td>26.30</td>\n",
       "      <td>18.00</td>\n",
       "    </tr>\n",
       "    <tr>\n",
       "      <th>2017-10-19</th>\n",
       "      <td>84.84</td>\n",
       "      <td>92.35</td>\n",
       "      <td>25.80</td>\n",
       "      <td>18.06</td>\n",
       "    </tr>\n",
       "    <tr>\n",
       "      <th>2017-10-20</th>\n",
       "      <td>84.86</td>\n",
       "      <td>92.40</td>\n",
       "      <td>25.50</td>\n",
       "      <td>18.44</td>\n",
       "    </tr>\n",
       "    <tr>\n",
       "      <th>2017-10-23</th>\n",
       "      <td>85.10</td>\n",
       "      <td>92.35</td>\n",
       "      <td>25.25</td>\n",
       "      <td>18.35</td>\n",
       "    </tr>\n",
       "    <tr>\n",
       "      <th>2017-10-24</th>\n",
       "      <td>85.76</td>\n",
       "      <td>92.25</td>\n",
       "      <td>24.90</td>\n",
       "      <td>18.48</td>\n",
       "    </tr>\n",
       "    <tr>\n",
       "      <th>2017-10-25</th>\n",
       "      <td>85.33</td>\n",
       "      <td>92.20</td>\n",
       "      <td>24.80</td>\n",
       "      <td>18.42</td>\n",
       "    </tr>\n",
       "    <tr>\n",
       "      <th>2017-10-26</th>\n",
       "      <td>85.50</td>\n",
       "      <td>92.85</td>\n",
       "      <td>24.05</td>\n",
       "      <td>18.28</td>\n",
       "    </tr>\n",
       "    <tr>\n",
       "      <th>2017-10-27</th>\n",
       "      <td>85.92</td>\n",
       "      <td>93.85</td>\n",
       "      <td>25.25</td>\n",
       "      <td>18.50</td>\n",
       "    </tr>\n",
       "    <tr>\n",
       "      <th>2017-10-30</th>\n",
       "      <td>85.90</td>\n",
       "      <td>93.20</td>\n",
       "      <td>25.60</td>\n",
       "      <td>18.34</td>\n",
       "    </tr>\n",
       "    <tr>\n",
       "      <th>2017-10-31</th>\n",
       "      <td>86.05</td>\n",
       "      <td>95.60</td>\n",
       "      <td>25.70</td>\n",
       "      <td>18.23</td>\n",
       "    </tr>\n",
       "    <tr>\n",
       "      <th>2017-11-01</th>\n",
       "      <td>85.80</td>\n",
       "      <td>96.50</td>\n",
       "      <td>25.80</td>\n",
       "      <td>18.25</td>\n",
       "    </tr>\n",
       "  </tbody>\n",
       "</table>\n",
       "<p>251 rows × 4 columns</p>\n",
       "</div>"
      ],
      "text/plain": [
       "               ED   PLUS    ERI   FTAI\n",
       "Date                                  \n",
       "2016-11-03  73.87  45.30  11.05  12.45\n",
       "2016-11-04  73.75  48.85  10.80  12.92\n",
       "2016-11-07  74.54  48.88  10.80  13.49\n",
       "2016-11-08  75.33  47.68  11.30  13.10\n",
       "2016-11-09  72.26  48.45  11.65  13.04\n",
       "2016-11-10  70.69  49.80  11.95  13.49\n",
       "2016-11-11  70.49  52.00  12.60  13.29\n",
       "2016-11-14  69.55  51.80  12.85  13.52\n",
       "2016-11-15  70.57  51.72  13.00  13.43\n",
       "2016-11-16  69.84  52.02  13.15  13.30\n",
       "2016-11-17  70.04  52.78  13.85  13.46\n",
       "2016-11-18  69.53  53.22  13.55  13.71\n",
       "2016-11-21  70.10  53.92  13.35  13.49\n",
       "2016-11-22  70.32  55.62  13.40  13.37\n",
       "2016-11-23  69.55  55.58  13.60  13.39\n",
       "2016-11-25  70.66  55.98  13.45  13.50\n",
       "2016-11-28  72.65  55.98  13.20  13.34\n",
       "2016-11-29  72.65  55.92  13.35  13.40\n",
       "2016-11-30  69.77  55.60  13.75  13.40\n",
       "2016-12-01  69.47  55.62  15.25  13.49\n",
       "2016-12-02  69.69  55.78  15.20  13.40\n",
       "2016-12-05  69.72  56.60  15.75  13.66\n",
       "2016-12-06  69.15  56.78  15.95  13.66\n",
       "2016-12-07  70.41  56.85  16.60  13.67\n",
       "2016-12-08  70.58  59.00  16.55  13.62\n",
       "2016-12-09  71.44  58.55  16.60  13.70\n",
       "2016-12-12  72.82  57.22  16.00  13.62\n",
       "2016-12-13  73.28  57.85  16.35  13.83\n",
       "2016-12-14  71.21  58.10  16.45  13.39\n",
       "2016-12-15  71.75  57.88  16.40  13.35\n",
       "...           ...    ...    ...    ...\n",
       "2017-09-21  82.43  87.55  25.10  17.93\n",
       "2017-09-22  81.59  88.60  24.72  17.79\n",
       "2017-09-25  82.24  87.95  24.40  17.92\n",
       "2017-09-26  81.84  87.70  24.55  17.98\n",
       "2017-09-27  80.62  90.25  25.20  17.97\n",
       "2017-09-28  80.71  93.05  25.45  18.06\n",
       "2017-09-29  80.68  92.45  25.65  18.04\n",
       "2017-10-02  81.11  94.45  25.90  18.13\n",
       "2017-10-03  80.90  95.45  26.65  17.96\n",
       "2017-10-04  81.78  95.20  26.75  17.82\n",
       "2017-10-05  81.77  94.25  26.95  17.98\n",
       "2017-10-06  81.56  93.40  26.40  17.67\n",
       "2017-10-09  81.49  94.85  26.10  17.52\n",
       "2017-10-10  82.40  96.05  26.10  17.80\n",
       "2017-10-11  82.92  96.65  26.35  17.58\n",
       "2017-10-12  83.53  96.25  26.15  17.88\n",
       "2017-10-13  83.08  95.95  26.20  18.25\n",
       "2017-10-16  82.85  96.75  26.65  18.50\n",
       "2017-10-17  83.56  95.65  26.50  18.37\n",
       "2017-10-18  83.78  94.35  26.30  18.00\n",
       "2017-10-19  84.84  92.35  25.80  18.06\n",
       "2017-10-20  84.86  92.40  25.50  18.44\n",
       "2017-10-23  85.10  92.35  25.25  18.35\n",
       "2017-10-24  85.76  92.25  24.90  18.48\n",
       "2017-10-25  85.33  92.20  24.80  18.42\n",
       "2017-10-26  85.50  92.85  24.05  18.28\n",
       "2017-10-27  85.92  93.85  25.25  18.50\n",
       "2017-10-30  85.90  93.20  25.60  18.34\n",
       "2017-10-31  86.05  95.60  25.70  18.23\n",
       "2017-11-01  85.80  96.50  25.80  18.25\n",
       "\n",
       "[251 rows x 4 columns]"
      ]
     },
     "execution_count": 9,
     "metadata": {},
     "output_type": "execute_result"
    }
   ],
   "source": [
    "df"
   ]
  },
  {
   "cell_type": "code",
   "execution_count": 10,
   "metadata": {},
   "outputs": [
    {
     "data": {
      "text/plain": [
       "ED      0.150910\n",
       "PLUS    0.762286\n",
       "ERI     0.854728\n",
       "FTAI    0.385504\n",
       "dtype: float64"
      ]
     },
     "execution_count": 10,
     "metadata": {},
     "output_type": "execute_result"
    }
   ],
   "source": [
    "rets.mean() * 252"
   ]
  },
  {
   "cell_type": "code",
   "execution_count": 11,
   "metadata": {},
   "outputs": [
    {
     "data": {
      "text/html": [
       "<div>\n",
       "<style>\n",
       "    .dataframe thead tr:only-child th {\n",
       "        text-align: right;\n",
       "    }\n",
       "\n",
       "    .dataframe thead th {\n",
       "        text-align: left;\n",
       "    }\n",
       "\n",
       "    .dataframe tbody tr th {\n",
       "        vertical-align: top;\n",
       "    }\n",
       "</style>\n",
       "<table border=\"1\" class=\"dataframe\">\n",
       "  <thead>\n",
       "    <tr style=\"text-align: right;\">\n",
       "      <th></th>\n",
       "      <th>ED</th>\n",
       "      <th>PLUS</th>\n",
       "      <th>ERI</th>\n",
       "      <th>FTAI</th>\n",
       "    </tr>\n",
       "  </thead>\n",
       "  <tbody>\n",
       "    <tr>\n",
       "      <th>ED</th>\n",
       "      <td>0.018424</td>\n",
       "      <td>-0.004473</td>\n",
       "      <td>-0.006596</td>\n",
       "      <td>-0.000755</td>\n",
       "    </tr>\n",
       "    <tr>\n",
       "      <th>PLUS</th>\n",
       "      <td>-0.004473</td>\n",
       "      <td>0.055420</td>\n",
       "      <td>0.013749</td>\n",
       "      <td>0.003872</td>\n",
       "    </tr>\n",
       "    <tr>\n",
       "      <th>ERI</th>\n",
       "      <td>-0.006596</td>\n",
       "      <td>0.013749</td>\n",
       "      <td>0.113211</td>\n",
       "      <td>-0.001632</td>\n",
       "    </tr>\n",
       "    <tr>\n",
       "      <th>FTAI</th>\n",
       "      <td>-0.000755</td>\n",
       "      <td>0.003872</td>\n",
       "      <td>-0.001632</td>\n",
       "      <td>0.041756</td>\n",
       "    </tr>\n",
       "  </tbody>\n",
       "</table>\n",
       "</div>"
      ],
      "text/plain": [
       "            ED      PLUS       ERI      FTAI\n",
       "ED    0.018424 -0.004473 -0.006596 -0.000755\n",
       "PLUS -0.004473  0.055420  0.013749  0.003872\n",
       "ERI  -0.006596  0.013749  0.113211 -0.001632\n",
       "FTAI -0.000755  0.003872 -0.001632  0.041756"
      ]
     },
     "execution_count": 11,
     "metadata": {},
     "output_type": "execute_result"
    }
   ],
   "source": [
    "rets.cov() * 252"
   ]
  },
  {
   "cell_type": "code",
   "execution_count": 12,
   "metadata": {},
   "outputs": [
    {
     "data": {
      "text/plain": [
       "array([ 0.21461796,  0.07822367,  0.65730674,  0.04985163])"
      ]
     },
     "execution_count": 12,
     "metadata": {},
     "output_type": "execute_result"
    }
   ],
   "source": [
    "weights = np.random.random(noa)\n",
    "weights /= np.sum(weights)\n",
    "weights"
   ]
  },
  {
   "cell_type": "code",
   "execution_count": 13,
   "metadata": {},
   "outputs": [
    {
     "data": {
      "text/plain": [
       "0.67305300439385429"
      ]
     },
     "execution_count": 13,
     "metadata": {},
     "output_type": "execute_result"
    }
   ],
   "source": [
    "np.dot(weights.T, rets.mean()) * 252"
   ]
  },
  {
   "cell_type": "code",
   "execution_count": 14,
   "metadata": {},
   "outputs": [
    {
     "data": {
      "text/plain": [
       "0.049514256185010763"
      ]
     },
     "execution_count": 14,
     "metadata": {},
     "output_type": "execute_result"
    }
   ],
   "source": [
    "np.dot(weights.T, np.dot(rets.cov() * 252, weights))"
   ]
  },
  {
   "cell_type": "code",
   "execution_count": 15,
   "metadata": {},
   "outputs": [
    {
     "data": {
      "text/plain": [
       "0.22251799069965278"
      ]
     },
     "execution_count": 15,
     "metadata": {},
     "output_type": "execute_result"
    }
   ],
   "source": [
    "np.sqrt(np.dot(weights.T, np.dot(rets.cov() * 252, weights)))"
   ]
  },
  {
   "cell_type": "code",
   "execution_count": 16,
   "metadata": {
    "collapsed": true
   },
   "outputs": [],
   "source": [
    "prets = []\n",
    "pvols = []\n",
    "for p in range(2500):\n",
    "    weights = np.random.random(noa)\n",
    "    weights = weights / np.sum(weights)\n",
    "    prets.append(np.dot(weights.T, rets.mean() * 252))\n",
    "    pvols.append(np.sqrt(np.dot(weights.T, np.dot(rets.cov() * 252, weights))))\n",
    "    \n",
    "prets = np.array(prets)\n",
    "pvols = np.array(pvols)"
   ]
  },
  {
   "cell_type": "code",
   "execution_count": 17,
   "metadata": {},
   "outputs": [
    {
     "data": {
      "text/plain": [
       "<matplotlib.colorbar.Colorbar at 0x1043c240>"
      ]
     },
     "execution_count": 17,
     "metadata": {},
     "output_type": "execute_result"
    },
    {
     "data": {
      "image/png": "[encoded data removed]",
      "text/plain": [
       "<matplotlib.figure.Figure at 0xe4f25c0>"
      ]
     },
     "metadata": {},
     "output_type": "display_data"
    }
   ],
   "source": [
    "plt.figure(figsize=(9, 5))\n",
    "plt.scatter(pvols, prets, c=prets/pvols, marker='o')\n",
    "plt.grid(True)\n",
    "plt.xlabel('Expected volatility')\n",
    "plt.ylabel('Expected return')\n",
    "plt.colorbar(label='Sharpe Ratio')"
   ]
  },
  {
   "cell_type": "code",
   "execution_count": 18,
   "metadata": {
    "collapsed": true
   },
   "outputs": [],
   "source": [
    "def statistics(weights):\n",
    "    weights = np.array(weights)\n",
    "    pret = np.dot(weights.T, rets.mean() * 252)\n",
    "    pvol = np.sqrt(np.dot(weights.T, np.dot(rets.cov() * 252, weights)))\n",
    "    return np.array([pret, pvol, pret / pvol])"
   ]
  },
  {
   "cell_type": "code",
   "execution_count": 19,
   "metadata": {
    "collapsed": true
   },
   "outputs": [],
   "source": [
    "def min_func_sharpe(weights):\n",
    "    return -statistics(weights)[2]"
   ]
  },
  {
   "cell_type": "code",
   "execution_count": 20,
   "metadata": {
    "collapsed": true
   },
   "outputs": [],
   "source": [
    "cons = ({'type':'eq', 'fun': lambda x: np.sum(x) - 1})\n",
    "bnds = tuple((0,1) for x in range(noa))"
   ]
  },
  {
   "cell_type": "code",
   "execution_count": 21,
   "metadata": {},
   "outputs": [
    {
     "name": "stdout",
     "output_type": "stream",
     "text": [
      "Wall time: 34 ms\n"
     ]
    }
   ],
   "source": [
    "%%time\n",
    "opts = sco.minimize(min_func_sharpe, noa * [1. / noa,], method='SLSQP', bounds=bnds, constraints=cons)"
   ]
  },
  {
   "cell_type": "code",
   "execution_count": 22,
   "metadata": {},
   "outputs": [
    {
     "data": {
      "text/plain": [
       "     fun: -4.579505109100806\n",
       "     jac: array([  2.17628479e-03,   2.87294388e-05,  -1.84500217e-03,\n",
       "        -2.11745501e-03])\n",
       " message: 'Optimization terminated successfully.'\n",
       "    nfev: 41\n",
       "     nit: 6\n",
       "    njev: 6\n",
       "  status: 0\n",
       " success: True\n",
       "       x: array([ 0.33368064,  0.2975978 ,  0.16512277,  0.20359878])"
      ]
     },
     "execution_count": 22,
     "metadata": {},
     "output_type": "execute_result"
    }
   ],
   "source": [
    "opts"
   ]
  },
  {
   "cell_type": "code",
   "execution_count": 23,
   "metadata": {
    "collapsed": true
   },
   "outputs": [],
   "source": [
    "def calc_weights(BP, xs, df):\n",
    "    t = BP / np.dot(df.tail(1), xs)\n",
    "    out = zip(symbols, t * xs)\n",
    "    out = sorted(out, key=lambda tup: tup[1], reverse=True)\n",
    "    return out"
   ]
  },
  {
   "cell_type": "code",
   "execution_count": 24,
   "metadata": {},
   "outputs": [
    {
     "name": "stdout",
     "output_type": "stream",
     "text": [
      "[(u'ED', 2.4723202119221046), (u'PLUS', 2.2049737644700116), (u'FTAI', 1.5085123581756812), (u'ERI', 1.2234343801946175)]\n",
      "[u'ED', u'PLUS', u'FTAI', u'ERI']\n"
     ]
    }
   ],
   "source": [
    "out = calc_weights(484.00, opts.x, df)\n",
    "print out\n",
    "print [sym[0] for sym in out if sym[1] > 0.00001]"
   ]
  },
  {
   "cell_type": "code",
   "execution_count": 25,
   "metadata": {},
   "outputs": [
    {
     "data": {
      "text/html": [
       "<div>\n",
       "<style>\n",
       "    .dataframe thead tr:only-child th {\n",
       "        text-align: right;\n",
       "    }\n",
       "\n",
       "    .dataframe thead th {\n",
       "        text-align: left;\n",
       "    }\n",
       "\n",
       "    .dataframe tbody tr th {\n",
       "        vertical-align: top;\n",
       "    }\n",
       "</style>\n",
       "<table border=\"1\" class=\"dataframe\">\n",
       "  <thead>\n",
       "    <tr style=\"text-align: right;\">\n",
       "      <th></th>\n",
       "      <th>ED</th>\n",
       "      <th>PLUS</th>\n",
       "      <th>ERI</th>\n",
       "      <th>FTAI</th>\n",
       "    </tr>\n",
       "    <tr>\n",
       "      <th>Date</th>\n",
       "      <th></th>\n",
       "      <th></th>\n",
       "      <th></th>\n",
       "      <th></th>\n",
       "    </tr>\n",
       "  </thead>\n",
       "  <tbody>\n",
       "    <tr>\n",
       "      <th>2017-11-01</th>\n",
       "      <td>85.8</td>\n",
       "      <td>96.5</td>\n",
       "      <td>25.8</td>\n",
       "      <td>18.25</td>\n",
       "    </tr>\n",
       "  </tbody>\n",
       "</table>\n",
       "</div>"
      ],
      "text/plain": [
       "              ED  PLUS   ERI   FTAI\n",
       "Date                               \n",
       "2017-11-01  85.8  96.5  25.8  18.25"
      ]
     },
     "execution_count": 25,
     "metadata": {},
     "output_type": "execute_result"
    }
   ],
   "source": [
    "df.tail(1)"
   ]
  },
  {
   "cell_type": "code",
   "execution_count": null,
   "metadata": {
    "collapsed": true
   },
   "outputs": [],
   "source": []
  }
 ],
 "metadata": {
  "kernelspec": {
   "display_name": "Python 2",
   "language": "python",
   "name": "python2"
  },
  "language_info": {
   "codemirror_mode": {
    "name": "ipython",
    "version": 2
   },
   "file_extension": ".py",
   "mimetype": "text/x-python",
   "name": "python",
   "nbconvert_exporter": "python",
   "pygments_lexer": "ipython2",
   "version": "2.7.14"
  }
 },
 "nbformat": 4,
 "nbformat_minor": 2
}
