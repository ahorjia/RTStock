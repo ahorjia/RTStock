{
 "cells": [
  {
   "cell_type": "code",
   "execution_count": 1,
   "metadata": {
    "collapsed": true
   },
   "outputs": [],
   "source": [
    "import numpy as np\n",
    "import matplotlib.pyplot as plt\n",
    "import pandas as pd\n",
    "from pandas_datareader import data, wb\n",
    "import scipy.optimize as sco\n",
    "import scipy.interpolate as itp"
   ]
  },
  {
   "cell_type": "code",
   "execution_count": 2,
   "metadata": {},
   "outputs": [
    {
     "name": "stdout",
     "output_type": "stream",
     "text": [
      "Populating the interactive namespace from numpy and matplotlib\n"
     ]
    }
   ],
   "source": [
    "%matplotlib inline\n",
    "%pylab inline\n",
    "pylab.rcParams['figure.figsize'] = (15, 10)"
   ]
  },
  {
   "cell_type": "code",
   "execution_count": 3,
   "metadata": {
    "collapsed": true
   },
   "outputs": [],
   "source": [
    "symbols = [u'A', u'ENTA', u'ASYS', u'BECN']\n",
    "noa = len(symbols)"
   ]
  },
  {
   "cell_type": "code",
   "execution_count": 4,
   "metadata": {
    "collapsed": true
   },
   "outputs": [],
   "source": [
    "from datetime import datetime, timedelta\n",
    "N = 200\n",
    "days_ago_N = datetime.now() - timedelta(days=N)\n",
    "days_ago_N_string = days_ago_N.strftime('%Y-%m-%d')"
   ]
  },
  {
   "cell_type": "code",
   "execution_count": 5,
   "metadata": {},
   "outputs": [
    {
     "name": "stdout",
     "output_type": "stream",
     "text": [
      "2017-05-01\n",
      "A\n",
      "ENTA\n",
      "ASYS\n",
      "BECN\n",
      "Wall time: 2.41 s\n"
     ]
    }
   ],
   "source": [
    "%%time\n",
    "df = pd.DataFrame()\n",
    "start = days_ago_N_string\n",
    "print(start)\n",
    "for symbol in symbols:\n",
    "    print(symbol)\n",
    "    df[symbol] = data.DataReader(symbol, 'google', start)['Close']"
   ]
  },
  {
   "cell_type": "code",
   "execution_count": 6,
   "metadata": {},
   "outputs": [
    {
     "data": {
      "text/html": [
       "<div>\n",
       "<style>\n",
       "    .dataframe thead tr:only-child th {\n",
       "        text-align: right;\n",
       "    }\n",
       "\n",
       "    .dataframe thead th {\n",
       "        text-align: left;\n",
       "    }\n",
       "\n",
       "    .dataframe tbody tr th {\n",
       "        vertical-align: top;\n",
       "    }\n",
       "</style>\n",
       "<table border=\"1\" class=\"dataframe\">\n",
       "  <thead>\n",
       "    <tr style=\"text-align: right;\">\n",
       "      <th></th>\n",
       "      <th>A</th>\n",
       "      <th>ENTA</th>\n",
       "      <th>ASYS</th>\n",
       "      <th>BECN</th>\n",
       "    </tr>\n",
       "    <tr>\n",
       "      <th>Date</th>\n",
       "      <th></th>\n",
       "      <th></th>\n",
       "      <th></th>\n",
       "      <th></th>\n",
       "    </tr>\n",
       "  </thead>\n",
       "  <tbody>\n",
       "    <tr>\n",
       "      <th>2016-11-21</th>\n",
       "      <td>44.97</td>\n",
       "      <td>30.07</td>\n",
       "      <td>4.83</td>\n",
       "      <td>46.89</td>\n",
       "    </tr>\n",
       "    <tr>\n",
       "      <th>2016-11-22</th>\n",
       "      <td>44.46</td>\n",
       "      <td>32.21</td>\n",
       "      <td>4.91</td>\n",
       "      <td>45.36</td>\n",
       "    </tr>\n",
       "    <tr>\n",
       "      <th>2016-11-23</th>\n",
       "      <td>44.65</td>\n",
       "      <td>33.14</td>\n",
       "      <td>4.68</td>\n",
       "      <td>46.08</td>\n",
       "    </tr>\n",
       "    <tr>\n",
       "      <th>2016-11-25</th>\n",
       "      <td>44.89</td>\n",
       "      <td>32.69</td>\n",
       "      <td>4.43</td>\n",
       "      <td>46.51</td>\n",
       "    </tr>\n",
       "    <tr>\n",
       "      <th>2016-11-28</th>\n",
       "      <td>43.60</td>\n",
       "      <td>31.29</td>\n",
       "      <td>4.29</td>\n",
       "      <td>46.13</td>\n",
       "    </tr>\n",
       "  </tbody>\n",
       "</table>\n",
       "</div>"
      ],
      "text/plain": [
       "                A   ENTA  ASYS   BECN\n",
       "Date                                 \n",
       "2016-11-21  44.97  30.07  4.83  46.89\n",
       "2016-11-22  44.46  32.21  4.91  45.36\n",
       "2016-11-23  44.65  33.14  4.68  46.08\n",
       "2016-11-25  44.89  32.69  4.43  46.51\n",
       "2016-11-28  43.60  31.29  4.29  46.13"
      ]
     },
     "execution_count": 6,
     "metadata": {},
     "output_type": "execute_result"
    }
   ],
   "source": [
    "df.head()"
   ]
  },
  {
   "cell_type": "code",
   "execution_count": 7,
   "metadata": {},
   "outputs": [
    {
     "name": "stderr",
     "output_type": "stream",
     "text": [
      "C:\\ProgramData\\Anaconda2\\lib\\site-packages\\ipykernel_launcher.py:1: DeprecationWarning: \n",
      ".ix is deprecated. Please use\n",
      ".loc for label based indexing or\n",
      ".iloc for positional indexing\n",
      "\n",
      "See the documentation here:\n",
      "http://pandas.pydata.org/pandas-docs/stable/indexing.html#ix-indexer-is-deprecated\n",
      "  \"\"\"Entry point for launching an IPython kernel.\n"
     ]
    },
    {
     "data": {
      "text/plain": [
       "<matplotlib.axes._subplots.AxesSubplot at 0xe7559b0>"
      ]
     },
     "execution_count": 7,
     "metadata": {},
     "output_type": "execute_result"
    },
    {
     "data": {
      "image/png": "[encoded data removed]",
      "text/plain": [
       "<matplotlib.figure.Figure at 0xe7554e0>"
      ]
     },
     "metadata": {},
     "output_type": "display_data"
    }
   ],
   "source": [
    "(df / df.ix[0] * 100).plot(figsize=(10,6))"
   ]
  },
  {
   "cell_type": "code",
   "execution_count": 8,
   "metadata": {
    "collapsed": true
   },
   "outputs": [],
   "source": [
    "rets = np.log(df / df.shift(1))"
   ]
  },
  {
   "cell_type": "code",
   "execution_count": 9,
   "metadata": {},
   "outputs": [
    {
     "data": {
      "text/html": [
       "<div>\n",
       "<style>\n",
       "    .dataframe thead tr:only-child th {\n",
       "        text-align: right;\n",
       "    }\n",
       "\n",
       "    .dataframe thead th {\n",
       "        text-align: left;\n",
       "    }\n",
       "\n",
       "    .dataframe tbody tr th {\n",
       "        vertical-align: top;\n",
       "    }\n",
       "</style>\n",
       "<table border=\"1\" class=\"dataframe\">\n",
       "  <thead>\n",
       "    <tr style=\"text-align: right;\">\n",
       "      <th></th>\n",
       "      <th>A</th>\n",
       "      <th>ENTA</th>\n",
       "      <th>ASYS</th>\n",
       "      <th>BECN</th>\n",
       "    </tr>\n",
       "    <tr>\n",
       "      <th>Date</th>\n",
       "      <th></th>\n",
       "      <th></th>\n",
       "      <th></th>\n",
       "      <th></th>\n",
       "    </tr>\n",
       "  </thead>\n",
       "  <tbody>\n",
       "    <tr>\n",
       "      <th>2016-11-21</th>\n",
       "      <td>44.97</td>\n",
       "      <td>30.07</td>\n",
       "      <td>4.83</td>\n",
       "      <td>46.89</td>\n",
       "    </tr>\n",
       "    <tr>\n",
       "      <th>2016-11-22</th>\n",
       "      <td>44.46</td>\n",
       "      <td>32.21</td>\n",
       "      <td>4.91</td>\n",
       "      <td>45.36</td>\n",
       "    </tr>\n",
       "    <tr>\n",
       "      <th>2016-11-23</th>\n",
       "      <td>44.65</td>\n",
       "      <td>33.14</td>\n",
       "      <td>4.68</td>\n",
       "      <td>46.08</td>\n",
       "    </tr>\n",
       "    <tr>\n",
       "      <th>2016-11-25</th>\n",
       "      <td>44.89</td>\n",
       "      <td>32.69</td>\n",
       "      <td>4.43</td>\n",
       "      <td>46.51</td>\n",
       "    </tr>\n",
       "    <tr>\n",
       "      <th>2016-11-28</th>\n",
       "      <td>43.60</td>\n",
       "      <td>31.29</td>\n",
       "      <td>4.29</td>\n",
       "      <td>46.13</td>\n",
       "    </tr>\n",
       "    <tr>\n",
       "      <th>2016-11-29</th>\n",
       "      <td>44.48</td>\n",
       "      <td>31.29</td>\n",
       "      <td>4.28</td>\n",
       "      <td>46.43</td>\n",
       "    </tr>\n",
       "    <tr>\n",
       "      <th>2016-11-30</th>\n",
       "      <td>43.98</td>\n",
       "      <td>31.44</td>\n",
       "      <td>4.34</td>\n",
       "      <td>46.39</td>\n",
       "    </tr>\n",
       "    <tr>\n",
       "      <th>2016-12-01</th>\n",
       "      <td>43.21</td>\n",
       "      <td>31.24</td>\n",
       "      <td>4.26</td>\n",
       "      <td>46.05</td>\n",
       "    </tr>\n",
       "    <tr>\n",
       "      <th>2016-12-02</th>\n",
       "      <td>44.03</td>\n",
       "      <td>31.55</td>\n",
       "      <td>4.25</td>\n",
       "      <td>45.56</td>\n",
       "    </tr>\n",
       "    <tr>\n",
       "      <th>2016-12-05</th>\n",
       "      <td>44.53</td>\n",
       "      <td>31.84</td>\n",
       "      <td>4.26</td>\n",
       "      <td>45.95</td>\n",
       "    </tr>\n",
       "    <tr>\n",
       "      <th>2016-12-06</th>\n",
       "      <td>44.84</td>\n",
       "      <td>32.94</td>\n",
       "      <td>4.36</td>\n",
       "      <td>45.92</td>\n",
       "    </tr>\n",
       "    <tr>\n",
       "      <th>2016-12-07</th>\n",
       "      <td>44.99</td>\n",
       "      <td>32.21</td>\n",
       "      <td>4.29</td>\n",
       "      <td>46.57</td>\n",
       "    </tr>\n",
       "    <tr>\n",
       "      <th>2016-12-08</th>\n",
       "      <td>45.80</td>\n",
       "      <td>32.84</td>\n",
       "      <td>4.02</td>\n",
       "      <td>46.81</td>\n",
       "    </tr>\n",
       "    <tr>\n",
       "      <th>2016-12-09</th>\n",
       "      <td>46.30</td>\n",
       "      <td>33.03</td>\n",
       "      <td>4.08</td>\n",
       "      <td>47.10</td>\n",
       "    </tr>\n",
       "    <tr>\n",
       "      <th>2016-12-12</th>\n",
       "      <td>46.14</td>\n",
       "      <td>32.88</td>\n",
       "      <td>4.10</td>\n",
       "      <td>46.56</td>\n",
       "    </tr>\n",
       "    <tr>\n",
       "      <th>2016-12-13</th>\n",
       "      <td>46.39</td>\n",
       "      <td>32.34</td>\n",
       "      <td>4.29</td>\n",
       "      <td>46.68</td>\n",
       "    </tr>\n",
       "    <tr>\n",
       "      <th>2016-12-14</th>\n",
       "      <td>46.14</td>\n",
       "      <td>31.84</td>\n",
       "      <td>4.08</td>\n",
       "      <td>45.39</td>\n",
       "    </tr>\n",
       "    <tr>\n",
       "      <th>2016-12-15</th>\n",
       "      <td>46.56</td>\n",
       "      <td>31.88</td>\n",
       "      <td>4.42</td>\n",
       "      <td>45.64</td>\n",
       "    </tr>\n",
       "    <tr>\n",
       "      <th>2016-12-16</th>\n",
       "      <td>45.91</td>\n",
       "      <td>31.89</td>\n",
       "      <td>4.20</td>\n",
       "      <td>47.36</td>\n",
       "    </tr>\n",
       "    <tr>\n",
       "      <th>2016-12-19</th>\n",
       "      <td>45.43</td>\n",
       "      <td>32.43</td>\n",
       "      <td>4.31</td>\n",
       "      <td>48.18</td>\n",
       "    </tr>\n",
       "    <tr>\n",
       "      <th>2016-12-20</th>\n",
       "      <td>46.21</td>\n",
       "      <td>33.47</td>\n",
       "      <td>4.20</td>\n",
       "      <td>48.19</td>\n",
       "    </tr>\n",
       "    <tr>\n",
       "      <th>2016-12-21</th>\n",
       "      <td>46.04</td>\n",
       "      <td>32.99</td>\n",
       "      <td>4.38</td>\n",
       "      <td>48.86</td>\n",
       "    </tr>\n",
       "    <tr>\n",
       "      <th>2016-12-22</th>\n",
       "      <td>45.97</td>\n",
       "      <td>33.02</td>\n",
       "      <td>4.37</td>\n",
       "      <td>47.82</td>\n",
       "    </tr>\n",
       "    <tr>\n",
       "      <th>2016-12-23</th>\n",
       "      <td>46.20</td>\n",
       "      <td>34.53</td>\n",
       "      <td>4.28</td>\n",
       "      <td>47.66</td>\n",
       "    </tr>\n",
       "    <tr>\n",
       "      <th>2016-12-27</th>\n",
       "      <td>46.51</td>\n",
       "      <td>33.35</td>\n",
       "      <td>4.26</td>\n",
       "      <td>47.74</td>\n",
       "    </tr>\n",
       "    <tr>\n",
       "      <th>2016-12-28</th>\n",
       "      <td>45.72</td>\n",
       "      <td>33.67</td>\n",
       "      <td>4.18</td>\n",
       "      <td>46.71</td>\n",
       "    </tr>\n",
       "    <tr>\n",
       "      <th>2016-12-29</th>\n",
       "      <td>45.64</td>\n",
       "      <td>33.61</td>\n",
       "      <td>4.02</td>\n",
       "      <td>46.53</td>\n",
       "    </tr>\n",
       "    <tr>\n",
       "      <th>2016-12-30</th>\n",
       "      <td>45.56</td>\n",
       "      <td>33.50</td>\n",
       "      <td>4.25</td>\n",
       "      <td>46.07</td>\n",
       "    </tr>\n",
       "    <tr>\n",
       "      <th>2017-01-03</th>\n",
       "      <td>46.49</td>\n",
       "      <td>34.35</td>\n",
       "      <td>4.16</td>\n",
       "      <td>45.95</td>\n",
       "    </tr>\n",
       "    <tr>\n",
       "      <th>2017-01-04</th>\n",
       "      <td>47.10</td>\n",
       "      <td>35.89</td>\n",
       "      <td>4.00</td>\n",
       "      <td>46.10</td>\n",
       "    </tr>\n",
       "    <tr>\n",
       "      <th>...</th>\n",
       "      <td>...</td>\n",
       "      <td>...</td>\n",
       "      <td>...</td>\n",
       "      <td>...</td>\n",
       "    </tr>\n",
       "    <tr>\n",
       "      <th>2017-10-09</th>\n",
       "      <td>66.56</td>\n",
       "      <td>48.22</td>\n",
       "      <td>12.44</td>\n",
       "      <td>52.23</td>\n",
       "    </tr>\n",
       "    <tr>\n",
       "      <th>2017-10-10</th>\n",
       "      <td>66.60</td>\n",
       "      <td>48.38</td>\n",
       "      <td>12.62</td>\n",
       "      <td>52.40</td>\n",
       "    </tr>\n",
       "    <tr>\n",
       "      <th>2017-10-11</th>\n",
       "      <td>66.71</td>\n",
       "      <td>48.76</td>\n",
       "      <td>12.68</td>\n",
       "      <td>52.25</td>\n",
       "    </tr>\n",
       "    <tr>\n",
       "      <th>2017-10-12</th>\n",
       "      <td>67.54</td>\n",
       "      <td>49.20</td>\n",
       "      <td>13.05</td>\n",
       "      <td>52.03</td>\n",
       "    </tr>\n",
       "    <tr>\n",
       "      <th>2017-10-13</th>\n",
       "      <td>66.99</td>\n",
       "      <td>48.50</td>\n",
       "      <td>13.25</td>\n",
       "      <td>52.42</td>\n",
       "    </tr>\n",
       "    <tr>\n",
       "      <th>2017-10-16</th>\n",
       "      <td>66.91</td>\n",
       "      <td>47.90</td>\n",
       "      <td>14.36</td>\n",
       "      <td>52.73</td>\n",
       "    </tr>\n",
       "    <tr>\n",
       "      <th>2017-10-17</th>\n",
       "      <td>66.12</td>\n",
       "      <td>47.75</td>\n",
       "      <td>15.25</td>\n",
       "      <td>52.99</td>\n",
       "    </tr>\n",
       "    <tr>\n",
       "      <th>2017-10-18</th>\n",
       "      <td>66.44</td>\n",
       "      <td>47.30</td>\n",
       "      <td>14.90</td>\n",
       "      <td>54.07</td>\n",
       "    </tr>\n",
       "    <tr>\n",
       "      <th>2017-10-19</th>\n",
       "      <td>66.88</td>\n",
       "      <td>47.40</td>\n",
       "      <td>14.92</td>\n",
       "      <td>54.79</td>\n",
       "    </tr>\n",
       "    <tr>\n",
       "      <th>2017-10-20</th>\n",
       "      <td>67.25</td>\n",
       "      <td>48.16</td>\n",
       "      <td>13.73</td>\n",
       "      <td>55.69</td>\n",
       "    </tr>\n",
       "    <tr>\n",
       "      <th>2017-10-23</th>\n",
       "      <td>67.02</td>\n",
       "      <td>48.24</td>\n",
       "      <td>14.26</td>\n",
       "      <td>54.94</td>\n",
       "    </tr>\n",
       "    <tr>\n",
       "      <th>2017-10-24</th>\n",
       "      <td>67.32</td>\n",
       "      <td>48.32</td>\n",
       "      <td>14.20</td>\n",
       "      <td>54.42</td>\n",
       "    </tr>\n",
       "    <tr>\n",
       "      <th>2017-10-25</th>\n",
       "      <td>67.39</td>\n",
       "      <td>48.48</td>\n",
       "      <td>13.69</td>\n",
       "      <td>54.14</td>\n",
       "    </tr>\n",
       "    <tr>\n",
       "      <th>2017-10-26</th>\n",
       "      <td>67.71</td>\n",
       "      <td>48.11</td>\n",
       "      <td>13.93</td>\n",
       "      <td>54.50</td>\n",
       "    </tr>\n",
       "    <tr>\n",
       "      <th>2017-10-27</th>\n",
       "      <td>67.97</td>\n",
       "      <td>49.65</td>\n",
       "      <td>13.67</td>\n",
       "      <td>54.92</td>\n",
       "    </tr>\n",
       "    <tr>\n",
       "      <th>2017-10-30</th>\n",
       "      <td>67.49</td>\n",
       "      <td>49.57</td>\n",
       "      <td>14.16</td>\n",
       "      <td>54.26</td>\n",
       "    </tr>\n",
       "    <tr>\n",
       "      <th>2017-10-31</th>\n",
       "      <td>68.03</td>\n",
       "      <td>49.67</td>\n",
       "      <td>14.56</td>\n",
       "      <td>55.41</td>\n",
       "    </tr>\n",
       "    <tr>\n",
       "      <th>2017-11-01</th>\n",
       "      <td>68.02</td>\n",
       "      <td>49.21</td>\n",
       "      <td>13.67</td>\n",
       "      <td>55.67</td>\n",
       "    </tr>\n",
       "    <tr>\n",
       "      <th>2017-11-02</th>\n",
       "      <td>68.13</td>\n",
       "      <td>49.81</td>\n",
       "      <td>14.12</td>\n",
       "      <td>54.47</td>\n",
       "    </tr>\n",
       "    <tr>\n",
       "      <th>2017-11-03</th>\n",
       "      <td>68.37</td>\n",
       "      <td>50.68</td>\n",
       "      <td>13.98</td>\n",
       "      <td>54.45</td>\n",
       "    </tr>\n",
       "    <tr>\n",
       "      <th>2017-11-06</th>\n",
       "      <td>68.22</td>\n",
       "      <td>50.30</td>\n",
       "      <td>13.19</td>\n",
       "      <td>54.77</td>\n",
       "    </tr>\n",
       "    <tr>\n",
       "      <th>2017-11-07</th>\n",
       "      <td>68.25</td>\n",
       "      <td>48.01</td>\n",
       "      <td>12.94</td>\n",
       "      <td>54.25</td>\n",
       "    </tr>\n",
       "    <tr>\n",
       "      <th>2017-11-08</th>\n",
       "      <td>68.11</td>\n",
       "      <td>47.45</td>\n",
       "      <td>13.61</td>\n",
       "      <td>54.52</td>\n",
       "    </tr>\n",
       "    <tr>\n",
       "      <th>2017-11-09</th>\n",
       "      <td>67.47</td>\n",
       "      <td>47.73</td>\n",
       "      <td>13.41</td>\n",
       "      <td>54.25</td>\n",
       "    </tr>\n",
       "    <tr>\n",
       "      <th>2017-11-10</th>\n",
       "      <td>66.81</td>\n",
       "      <td>47.97</td>\n",
       "      <td>13.11</td>\n",
       "      <td>54.87</td>\n",
       "    </tr>\n",
       "    <tr>\n",
       "      <th>2017-11-13</th>\n",
       "      <td>67.13</td>\n",
       "      <td>47.76</td>\n",
       "      <td>12.86</td>\n",
       "      <td>54.95</td>\n",
       "    </tr>\n",
       "    <tr>\n",
       "      <th>2017-11-14</th>\n",
       "      <td>67.46</td>\n",
       "      <td>47.41</td>\n",
       "      <td>13.58</td>\n",
       "      <td>55.39</td>\n",
       "    </tr>\n",
       "    <tr>\n",
       "      <th>2017-11-15</th>\n",
       "      <td>67.31</td>\n",
       "      <td>47.29</td>\n",
       "      <td>12.90</td>\n",
       "      <td>54.77</td>\n",
       "    </tr>\n",
       "    <tr>\n",
       "      <th>2017-11-16</th>\n",
       "      <td>68.74</td>\n",
       "      <td>48.12</td>\n",
       "      <td>13.37</td>\n",
       "      <td>55.17</td>\n",
       "    </tr>\n",
       "    <tr>\n",
       "      <th>2017-11-17</th>\n",
       "      <td>68.79</td>\n",
       "      <td>48.52</td>\n",
       "      <td>13.19</td>\n",
       "      <td>55.63</td>\n",
       "    </tr>\n",
       "  </tbody>\n",
       "</table>\n",
       "<p>251 rows × 4 columns</p>\n",
       "</div>"
      ],
      "text/plain": [
       "                A   ENTA   ASYS   BECN\n",
       "Date                                  \n",
       "2016-11-21  44.97  30.07   4.83  46.89\n",
       "2016-11-22  44.46  32.21   4.91  45.36\n",
       "2016-11-23  44.65  33.14   4.68  46.08\n",
       "2016-11-25  44.89  32.69   4.43  46.51\n",
       "2016-11-28  43.60  31.29   4.29  46.13\n",
       "2016-11-29  44.48  31.29   4.28  46.43\n",
       "2016-11-30  43.98  31.44   4.34  46.39\n",
       "2016-12-01  43.21  31.24   4.26  46.05\n",
       "2016-12-02  44.03  31.55   4.25  45.56\n",
       "2016-12-05  44.53  31.84   4.26  45.95\n",
       "2016-12-06  44.84  32.94   4.36  45.92\n",
       "2016-12-07  44.99  32.21   4.29  46.57\n",
       "2016-12-08  45.80  32.84   4.02  46.81\n",
       "2016-12-09  46.30  33.03   4.08  47.10\n",
       "2016-12-12  46.14  32.88   4.10  46.56\n",
       "2016-12-13  46.39  32.34   4.29  46.68\n",
       "2016-12-14  46.14  31.84   4.08  45.39\n",
       "2016-12-15  46.56  31.88   4.42  45.64\n",
       "2016-12-16  45.91  31.89   4.20  47.36\n",
       "2016-12-19  45.43  32.43   4.31  48.18\n",
       "2016-12-20  46.21  33.47   4.20  48.19\n",
       "2016-12-21  46.04  32.99   4.38  48.86\n",
       "2016-12-22  45.97  33.02   4.37  47.82\n",
       "2016-12-23  46.20  34.53   4.28  47.66\n",
       "2016-12-27  46.51  33.35   4.26  47.74\n",
       "2016-12-28  45.72  33.67   4.18  46.71\n",
       "2016-12-29  45.64  33.61   4.02  46.53\n",
       "2016-12-30  45.56  33.50   4.25  46.07\n",
       "2017-01-03  46.49  34.35   4.16  45.95\n",
       "2017-01-04  47.10  35.89   4.00  46.10\n",
       "...           ...    ...    ...    ...\n",
       "2017-10-09  66.56  48.22  12.44  52.23\n",
       "2017-10-10  66.60  48.38  12.62  52.40\n",
       "2017-10-11  66.71  48.76  12.68  52.25\n",
       "2017-10-12  67.54  49.20  13.05  52.03\n",
       "2017-10-13  66.99  48.50  13.25  52.42\n",
       "2017-10-16  66.91  47.90  14.36  52.73\n",
       "2017-10-17  66.12  47.75  15.25  52.99\n",
       "2017-10-18  66.44  47.30  14.90  54.07\n",
       "2017-10-19  66.88  47.40  14.92  54.79\n",
       "2017-10-20  67.25  48.16  13.73  55.69\n",
       "2017-10-23  67.02  48.24  14.26  54.94\n",
       "2017-10-24  67.32  48.32  14.20  54.42\n",
       "2017-10-25  67.39  48.48  13.69  54.14\n",
       "2017-10-26  67.71  48.11  13.93  54.50\n",
       "2017-10-27  67.97  49.65  13.67  54.92\n",
       "2017-10-30  67.49  49.57  14.16  54.26\n",
       "2017-10-31  68.03  49.67  14.56  55.41\n",
       "2017-11-01  68.02  49.21  13.67  55.67\n",
       "2017-11-02  68.13  49.81  14.12  54.47\n",
       "2017-11-03  68.37  50.68  13.98  54.45\n",
       "2017-11-06  68.22  50.30  13.19  54.77\n",
       "2017-11-07  68.25  48.01  12.94  54.25\n",
       "2017-11-08  68.11  47.45  13.61  54.52\n",
       "2017-11-09  67.47  47.73  13.41  54.25\n",
       "2017-11-10  66.81  47.97  13.11  54.87\n",
       "2017-11-13  67.13  47.76  12.86  54.95\n",
       "2017-11-14  67.46  47.41  13.58  55.39\n",
       "2017-11-15  67.31  47.29  12.90  54.77\n",
       "2017-11-16  68.74  48.12  13.37  55.17\n",
       "2017-11-17  68.79  48.52  13.19  55.63\n",
       "\n",
       "[251 rows x 4 columns]"
      ]
     },
     "execution_count": 9,
     "metadata": {},
     "output_type": "execute_result"
    }
   ],
   "source": [
    "df"
   ]
  },
  {
   "cell_type": "code",
   "execution_count": 10,
   "metadata": {},
   "outputs": [
    {
     "data": {
      "text/plain": [
       "A       0.428463\n",
       "ENTA    0.482276\n",
       "ASYS    1.012649\n",
       "BECN    0.172286\n",
       "dtype: float64"
      ]
     },
     "execution_count": 10,
     "metadata": {},
     "output_type": "execute_result"
    }
   ],
   "source": [
    "rets.mean() * 252"
   ]
  },
  {
   "cell_type": "code",
   "execution_count": 11,
   "metadata": {},
   "outputs": [
    {
     "data": {
      "text/html": [
       "<div>\n",
       "<style>\n",
       "    .dataframe thead tr:only-child th {\n",
       "        text-align: right;\n",
       "    }\n",
       "\n",
       "    .dataframe thead th {\n",
       "        text-align: left;\n",
       "    }\n",
       "\n",
       "    .dataframe tbody tr th {\n",
       "        vertical-align: top;\n",
       "    }\n",
       "</style>\n",
       "<table border=\"1\" class=\"dataframe\">\n",
       "  <thead>\n",
       "    <tr style=\"text-align: right;\">\n",
       "      <th></th>\n",
       "      <th>A</th>\n",
       "      <th>ENTA</th>\n",
       "      <th>ASYS</th>\n",
       "      <th>BECN</th>\n",
       "    </tr>\n",
       "  </thead>\n",
       "  <tbody>\n",
       "    <tr>\n",
       "      <th>A</th>\n",
       "      <td>0.027333</td>\n",
       "      <td>0.007601</td>\n",
       "      <td>0.001984</td>\n",
       "      <td>0.005220</td>\n",
       "    </tr>\n",
       "    <tr>\n",
       "      <th>ENTA</th>\n",
       "      <td>0.007601</td>\n",
       "      <td>0.116734</td>\n",
       "      <td>-0.000383</td>\n",
       "      <td>0.012866</td>\n",
       "    </tr>\n",
       "    <tr>\n",
       "      <th>ASYS</th>\n",
       "      <td>0.001984</td>\n",
       "      <td>-0.000383</td>\n",
       "      <td>0.445426</td>\n",
       "      <td>0.010903</td>\n",
       "    </tr>\n",
       "    <tr>\n",
       "      <th>BECN</th>\n",
       "      <td>0.005220</td>\n",
       "      <td>0.012866</td>\n",
       "      <td>0.010903</td>\n",
       "      <td>0.057653</td>\n",
       "    </tr>\n",
       "  </tbody>\n",
       "</table>\n",
       "</div>"
      ],
      "text/plain": [
       "             A      ENTA      ASYS      BECN\n",
       "A     0.027333  0.007601  0.001984  0.005220\n",
       "ENTA  0.007601  0.116734 -0.000383  0.012866\n",
       "ASYS  0.001984 -0.000383  0.445426  0.010903\n",
       "BECN  0.005220  0.012866  0.010903  0.057653"
      ]
     },
     "execution_count": 11,
     "metadata": {},
     "output_type": "execute_result"
    }
   ],
   "source": [
    "rets.cov() * 252"
   ]
  },
  {
   "cell_type": "code",
   "execution_count": 12,
   "metadata": {},
   "outputs": [
    {
     "data": {
      "text/plain": [
       "array([ 0.23425187,  0.36703534,  0.2696651 ,  0.12904769])"
      ]
     },
     "execution_count": 12,
     "metadata": {},
     "output_type": "execute_result"
    }
   ],
   "source": [
    "weights = np.random.random(noa)\n",
    "weights /= np.sum(weights)\n",
    "weights"
   ]
  },
  {
   "cell_type": "code",
   "execution_count": 13,
   "metadata": {},
   "outputs": [
    {
     "data": {
      "text/plain": [
       "0.57268979479256543"
      ]
     },
     "execution_count": 13,
     "metadata": {},
     "output_type": "execute_result"
    }
   ],
   "source": [
    "np.dot(weights.T, rets.mean()) * 252"
   ]
  },
  {
   "cell_type": "code",
   "execution_count": 14,
   "metadata": {},
   "outputs": [
    {
     "data": {
      "text/plain": [
       "0.05435192327937248"
      ]
     },
     "execution_count": 14,
     "metadata": {},
     "output_type": "execute_result"
    }
   ],
   "source": [
    "np.dot(weights.T, np.dot(rets.cov() * 252, weights))"
   ]
  },
  {
   "cell_type": "code",
   "execution_count": 15,
   "metadata": {},
   "outputs": [
    {
     "data": {
      "text/plain": [
       "0.23313498939321073"
      ]
     },
     "execution_count": 15,
     "metadata": {},
     "output_type": "execute_result"
    }
   ],
   "source": [
    "np.sqrt(np.dot(weights.T, np.dot(rets.cov() * 252, weights)))"
   ]
  },
  {
   "cell_type": "code",
   "execution_count": 16,
   "metadata": {
    "collapsed": true
   },
   "outputs": [],
   "source": [
    "prets = []\n",
    "pvols = []\n",
    "for p in range(2500):\n",
    "    weights = np.random.random(noa)\n",
    "    weights = weights / np.sum(weights)\n",
    "    prets.append(np.dot(weights.T, rets.mean() * 252))\n",
    "    pvols.append(np.sqrt(np.dot(weights.T, np.dot(rets.cov() * 252, weights))))\n",
    "    \n",
    "prets = np.array(prets)\n",
    "pvols = np.array(pvols)"
   ]
  },
  {
   "cell_type": "code",
   "execution_count": 17,
   "metadata": {},
   "outputs": [
    {
     "data": {
      "text/plain": [
       "<matplotlib.colorbar.Colorbar at 0xc2efd68>"
      ]
     },
     "execution_count": 17,
     "metadata": {},
     "output_type": "execute_result"
    },
    {
     "data": {
      "image/png": "[encoded data removed]",
      "text/plain": [
       "<matplotlib.figure.Figure at 0xe9dce10>"
      ]
     },
     "metadata": {},
     "output_type": "display_data"
    }
   ],
   "source": [
    "plt.figure(figsize=(9, 5))\n",
    "plt.scatter(pvols, prets, c=prets/pvols, marker='o')\n",
    "plt.grid(True)\n",
    "plt.xlabel('Expected volatility')\n",
    "plt.ylabel('Expected return')\n",
    "plt.colorbar(label='Sharpe Ratio')"
   ]
  },
  {
   "cell_type": "code",
   "execution_count": 18,
   "metadata": {
    "collapsed": true
   },
   "outputs": [],
   "source": [
    "def statistics(weights):\n",
    "    weights = np.array(weights)\n",
    "    pret = np.dot(weights.T, rets.mean() * 252)\n",
    "    pvol = np.sqrt(np.dot(weights.T, np.dot(rets.cov() * 252, weights)))\n",
    "    return np.array([pret, pvol, pret / pvol])"
   ]
  },
  {
   "cell_type": "code",
   "execution_count": 19,
   "metadata": {
    "collapsed": true
   },
   "outputs": [],
   "source": [
    "def min_func_sharpe(weights):\n",
    "    return -statistics(weights)[2]"
   ]
  },
  {
   "cell_type": "code",
   "execution_count": 20,
   "metadata": {
    "collapsed": true
   },
   "outputs": [],
   "source": [
    "cons = ({'type':'eq', 'fun': lambda x: np.sum(x) - 1})\n",
    "bnds = tuple((0,1) for x in range(noa))"
   ]
  },
  {
   "cell_type": "code",
   "execution_count": 21,
   "metadata": {},
   "outputs": [
    {
     "name": "stdout",
     "output_type": "stream",
     "text": [
      "Wall time: 38 ms\n"
     ]
    }
   ],
   "source": [
    "%%time\n",
    "opts = sco.minimize(min_func_sharpe, noa * [1. / noa,], method='SLSQP', bounds=bnds, constraints=cons)"
   ]
  },
  {
   "cell_type": "code",
   "execution_count": 22,
   "metadata": {},
   "outputs": [
    {
     "data": {
      "text/plain": [
       "     fun: -3.1718916127404713\n",
       "     jac: array([ -2.60174274e-05,   5.69045544e-04,  -1.92224979e-04,\n",
       "        -1.77299976e-03])\n",
       " message: 'Optimization terminated successfully.'\n",
       "    nfev: 51\n",
       "     nit: 8\n",
       "    njev: 8\n",
       "  status: 0\n",
       " success: True\n",
       "       x: array([ 0.71197128,  0.15335268,  0.10761962,  0.02705642])"
      ]
     },
     "execution_count": 22,
     "metadata": {},
     "output_type": "execute_result"
    }
   ],
   "source": [
    "opts"
   ]
  },
  {
   "cell_type": "code",
   "execution_count": 23,
   "metadata": {
    "collapsed": true
   },
   "outputs": [],
   "source": [
    "def calc_weights(BP, xs, df):\n",
    "    t = BP / np.dot(df.tail(1), xs)\n",
    "    out = zip(symbols, t * xs)\n",
    "    out = sorted(out, key=lambda tup: tup[1], reverse=True)\n",
    "    return out"
   ]
  },
  {
   "cell_type": "code",
   "execution_count": 24,
   "metadata": {},
   "outputs": [
    {
     "name": "stdout",
     "output_type": "stream",
     "text": [
      "[(u'A', 5.5189872205620905), (u'ENTA', 1.1887438699793293), (u'ASYS', 0.83423494683044452), (u'BECN', 0.20973319391413162)]\n",
      "[u'A', u'ENTA', u'ASYS', u'BECN']\n"
     ]
    }
   ],
   "source": [
    "out = calc_weights(460.00, opts.x, df)\n",
    "print out\n",
    "print [sym[0] for sym in out if sym[1] > 0.00001]"
   ]
  },
  {
   "cell_type": "code",
   "execution_count": 25,
   "metadata": {},
   "outputs": [
    {
     "data": {
      "text/html": [
       "<div>\n",
       "<style>\n",
       "    .dataframe thead tr:only-child th {\n",
       "        text-align: right;\n",
       "    }\n",
       "\n",
       "    .dataframe thead th {\n",
       "        text-align: left;\n",
       "    }\n",
       "\n",
       "    .dataframe tbody tr th {\n",
       "        vertical-align: top;\n",
       "    }\n",
       "</style>\n",
       "<table border=\"1\" class=\"dataframe\">\n",
       "  <thead>\n",
       "    <tr style=\"text-align: right;\">\n",
       "      <th></th>\n",
       "      <th>A</th>\n",
       "      <th>ENTA</th>\n",
       "      <th>ASYS</th>\n",
       "      <th>BECN</th>\n",
       "    </tr>\n",
       "    <tr>\n",
       "      <th>Date</th>\n",
       "      <th></th>\n",
       "      <th></th>\n",
       "      <th></th>\n",
       "      <th></th>\n",
       "    </tr>\n",
       "  </thead>\n",
       "  <tbody>\n",
       "    <tr>\n",
       "      <th>2017-11-17</th>\n",
       "      <td>68.79</td>\n",
       "      <td>48.52</td>\n",
       "      <td>13.19</td>\n",
       "      <td>55.63</td>\n",
       "    </tr>\n",
       "  </tbody>\n",
       "</table>\n",
       "</div>"
      ],
      "text/plain": [
       "                A   ENTA   ASYS   BECN\n",
       "Date                                  \n",
       "2017-11-17  68.79  48.52  13.19  55.63"
      ]
     },
     "execution_count": 25,
     "metadata": {},
     "output_type": "execute_result"
    }
   ],
   "source": [
    "df.tail(1)"
   ]
  },
  {
   "cell_type": "code",
   "execution_count": null,
   "metadata": {
    "collapsed": true
   },
   "outputs": [],
   "source": []
  }
 ],
 "metadata": {
  "kernelspec": {
   "display_name": "Python 2",
   "language": "python",
   "name": "python2"
  },
  "language_info": {
   "codemirror_mode": {
    "name": "ipython",
    "version": 2
   },
   "file_extension": ".py",
   "mimetype": "text/x-python",
   "name": "python",
   "nbconvert_exporter": "python",
   "pygments_lexer": "ipython2",
   "version": "2.7.14"
  }
 },
 "nbformat": 4,
 "nbformat_minor": 2
}
