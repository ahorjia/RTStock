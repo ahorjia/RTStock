{
 "cells": [
  {
   "cell_type": "code",
   "execution_count": 1,
   "metadata": {
    "collapsed": true
   },
   "outputs": [],
   "source": [
    "import numpy as np\n",
    "import matplotlib.pyplot as plt\n",
    "import pandas as pd\n",
    "from pandas_datareader import data, wb\n",
    "import scipy.optimize as sco\n",
    "import scipy.interpolate as itp"
   ]
  },
  {
   "cell_type": "code",
   "execution_count": 2,
   "metadata": {},
   "outputs": [
    {
     "name": "stdout",
     "output_type": "stream",
     "text": [
      "Populating the interactive namespace from numpy and matplotlib\n"
     ]
    }
   ],
   "source": [
    "%matplotlib inline\n",
    "%pylab inline\n",
    "pylab.rcParams['figure.figsize'] = (15, 10)"
   ]
  },
  {
   "cell_type": "code",
   "execution_count": 3,
   "metadata": {
    "collapsed": true
   },
   "outputs": [],
   "source": [
    "symbols = [u'MNR', u'PVH', u'GSM', u'DSGX', u'ENTA']#, u'PSTG', u'MRVL', u'HOME']\n",
    "noa = len(symbols)"
   ]
  },
  {
   "cell_type": "code",
   "execution_count": 4,
   "metadata": {
    "collapsed": true
   },
   "outputs": [],
   "source": [
    "from datetime import datetime, timedelta\n",
    "N = 200\n",
    "days_ago_N = datetime.now() - timedelta(days=N)\n",
    "days_ago_N_string = days_ago_N.strftime('%Y-%m-%d')"
   ]
  },
  {
   "cell_type": "code",
   "execution_count": 5,
   "metadata": {},
   "outputs": [
    {
     "name": "stdout",
     "output_type": "stream",
     "text": [
      "2017-05-12\n",
      "MNR\n",
      "PVH\n",
      "GSM\n",
      "DSGX\n",
      "ENTA\n",
      "Wall time: 24.4 s\n"
     ]
    }
   ],
   "source": [
    "%%time\n",
    "df = pd.DataFrame()\n",
    "start = days_ago_N_string\n",
    "print(start)\n",
    "for symbol in symbols:\n",
    "    print(symbol)\n",
    "    df[symbol] = data.DataReader(symbol, 'yahoo', start)['Adj Close']\n",
    "#     df[symbol] = data.DataReader(symbol, 'google', start)['Close']"
   ]
  },
  {
   "cell_type": "code",
   "execution_count": 6,
   "metadata": {},
   "outputs": [
    {
     "data": {
      "text/html": [
       "<div>\n",
       "<style>\n",
       "    .dataframe thead tr:only-child th {\n",
       "        text-align: right;\n",
       "    }\n",
       "\n",
       "    .dataframe thead th {\n",
       "        text-align: left;\n",
       "    }\n",
       "\n",
       "    .dataframe tbody tr th {\n",
       "        vertical-align: top;\n",
       "    }\n",
       "</style>\n",
       "<table border=\"1\" class=\"dataframe\">\n",
       "  <thead>\n",
       "    <tr style=\"text-align: right;\">\n",
       "      <th></th>\n",
       "      <th>MNR</th>\n",
       "      <th>PVH</th>\n",
       "      <th>GSM</th>\n",
       "      <th>DSGX</th>\n",
       "      <th>ENTA</th>\n",
       "    </tr>\n",
       "    <tr>\n",
       "      <th>Date</th>\n",
       "      <th></th>\n",
       "      <th></th>\n",
       "      <th></th>\n",
       "      <th></th>\n",
       "      <th></th>\n",
       "    </tr>\n",
       "  </thead>\n",
       "  <tbody>\n",
       "    <tr>\n",
       "      <th>2017-05-12</th>\n",
       "      <td>13.676723</td>\n",
       "      <td>100.092514</td>\n",
       "      <td>8.60</td>\n",
       "      <td>23.650000</td>\n",
       "      <td>33.310001</td>\n",
       "    </tr>\n",
       "    <tr>\n",
       "      <th>2017-05-15</th>\n",
       "      <td>13.764896</td>\n",
       "      <td>100.392220</td>\n",
       "      <td>8.74</td>\n",
       "      <td>23.950001</td>\n",
       "      <td>32.820000</td>\n",
       "    </tr>\n",
       "    <tr>\n",
       "      <th>2017-05-16</th>\n",
       "      <td>13.735506</td>\n",
       "      <td>99.031029</td>\n",
       "      <td>8.78</td>\n",
       "      <td>24.400000</td>\n",
       "      <td>32.570000</td>\n",
       "    </tr>\n",
       "    <tr>\n",
       "      <th>2017-05-17</th>\n",
       "      <td>13.745302</td>\n",
       "      <td>97.412003</td>\n",
       "      <td>8.81</td>\n",
       "      <td>23.549999</td>\n",
       "      <td>32.060001</td>\n",
       "    </tr>\n",
       "    <tr>\n",
       "      <th>2017-05-18</th>\n",
       "      <td>14.166577</td>\n",
       "      <td>99.031029</td>\n",
       "      <td>9.01</td>\n",
       "      <td>23.400000</td>\n",
       "      <td>32.049999</td>\n",
       "    </tr>\n",
       "  </tbody>\n",
       "</table>\n",
       "</div>"
      ],
      "text/plain": [
       "                  MNR         PVH   GSM       DSGX       ENTA\n",
       "Date                                                         \n",
       "2017-05-12  13.676723  100.092514  8.60  23.650000  33.310001\n",
       "2017-05-15  13.764896  100.392220  8.74  23.950001  32.820000\n",
       "2017-05-16  13.735506   99.031029  8.78  24.400000  32.570000\n",
       "2017-05-17  13.745302   97.412003  8.81  23.549999  32.060001\n",
       "2017-05-18  14.166577   99.031029  9.01  23.400000  32.049999"
      ]
     },
     "execution_count": 6,
     "metadata": {},
     "output_type": "execute_result"
    }
   ],
   "source": [
    "df.head()"
   ]
  },
  {
   "cell_type": "code",
   "execution_count": 7,
   "metadata": {},
   "outputs": [
    {
     "name": "stderr",
     "output_type": "stream",
     "text": [
      "C:\\ProgramData\\Anaconda2\\lib\\site-packages\\ipykernel_launcher.py:1: DeprecationWarning: \n",
      ".ix is deprecated. Please use\n",
      ".loc for label based indexing or\n",
      ".iloc for positional indexing\n",
      "\n",
      "See the documentation here:\n",
      "http://pandas.pydata.org/pandas-docs/stable/indexing.html#ix-indexer-is-deprecated\n",
      "  \"\"\"Entry point for launching an IPython kernel.\n"
     ]
    },
    {
     "data": {
      "text/plain": [
       "<matplotlib.axes._subplots.AxesSubplot at 0xe118cf8>"
      ]
     },
     "execution_count": 7,
     "metadata": {},
     "output_type": "execute_result"
    },
    {
     "data": {
      "image/png": "[encoded data removed]",
      "text/plain": [
       "<matplotlib.figure.Figure at 0xe118668>"
      ]
     },
     "metadata": {},
     "output_type": "display_data"
    }
   ],
   "source": [
    "(df / df.ix[0] * 100).plot(figsize=(10,6))"
   ]
  },
  {
   "cell_type": "code",
   "execution_count": 8,
   "metadata": {
    "collapsed": true
   },
   "outputs": [],
   "source": [
    "rets = np.log(df / df.shift(1))"
   ]
  },
  {
   "cell_type": "code",
   "execution_count": 9,
   "metadata": {},
   "outputs": [
    {
     "data": {
      "text/html": [
       "<div>\n",
       "<style>\n",
       "    .dataframe thead tr:only-child th {\n",
       "        text-align: right;\n",
       "    }\n",
       "\n",
       "    .dataframe thead th {\n",
       "        text-align: left;\n",
       "    }\n",
       "\n",
       "    .dataframe tbody tr th {\n",
       "        vertical-align: top;\n",
       "    }\n",
       "</style>\n",
       "<table border=\"1\" class=\"dataframe\">\n",
       "  <thead>\n",
       "    <tr style=\"text-align: right;\">\n",
       "      <th></th>\n",
       "      <th>MNR</th>\n",
       "      <th>PVH</th>\n",
       "      <th>GSM</th>\n",
       "      <th>DSGX</th>\n",
       "      <th>ENTA</th>\n",
       "    </tr>\n",
       "    <tr>\n",
       "      <th>Date</th>\n",
       "      <th></th>\n",
       "      <th></th>\n",
       "      <th></th>\n",
       "      <th></th>\n",
       "      <th></th>\n",
       "    </tr>\n",
       "  </thead>\n",
       "  <tbody>\n",
       "    <tr>\n",
       "      <th>2017-05-12</th>\n",
       "      <td>13.676723</td>\n",
       "      <td>100.092514</td>\n",
       "      <td>8.600000</td>\n",
       "      <td>23.650000</td>\n",
       "      <td>33.310001</td>\n",
       "    </tr>\n",
       "    <tr>\n",
       "      <th>2017-05-15</th>\n",
       "      <td>13.764896</td>\n",
       "      <td>100.392220</td>\n",
       "      <td>8.740000</td>\n",
       "      <td>23.950001</td>\n",
       "      <td>32.820000</td>\n",
       "    </tr>\n",
       "    <tr>\n",
       "      <th>2017-05-16</th>\n",
       "      <td>13.735506</td>\n",
       "      <td>99.031029</td>\n",
       "      <td>8.780000</td>\n",
       "      <td>24.400000</td>\n",
       "      <td>32.570000</td>\n",
       "    </tr>\n",
       "    <tr>\n",
       "      <th>2017-05-17</th>\n",
       "      <td>13.745302</td>\n",
       "      <td>97.412003</td>\n",
       "      <td>8.810000</td>\n",
       "      <td>23.549999</td>\n",
       "      <td>32.060001</td>\n",
       "    </tr>\n",
       "    <tr>\n",
       "      <th>2017-05-18</th>\n",
       "      <td>14.166577</td>\n",
       "      <td>99.031029</td>\n",
       "      <td>9.010000</td>\n",
       "      <td>23.400000</td>\n",
       "      <td>32.049999</td>\n",
       "    </tr>\n",
       "    <tr>\n",
       "      <th>2017-05-19</th>\n",
       "      <td>14.421301</td>\n",
       "      <td>100.350258</td>\n",
       "      <td>9.210000</td>\n",
       "      <td>24.100000</td>\n",
       "      <td>32.480000</td>\n",
       "    </tr>\n",
       "    <tr>\n",
       "      <th>2017-05-22</th>\n",
       "      <td>14.421301</td>\n",
       "      <td>102.059235</td>\n",
       "      <td>10.010000</td>\n",
       "      <td>23.900000</td>\n",
       "      <td>31.870001</td>\n",
       "    </tr>\n",
       "    <tr>\n",
       "      <th>2017-05-23</th>\n",
       "      <td>14.509475</td>\n",
       "      <td>102.319077</td>\n",
       "      <td>10.130000</td>\n",
       "      <td>24.000000</td>\n",
       "      <td>31.500000</td>\n",
       "    </tr>\n",
       "    <tr>\n",
       "      <th>2017-05-24</th>\n",
       "      <td>14.538866</td>\n",
       "      <td>101.979279</td>\n",
       "      <td>10.300000</td>\n",
       "      <td>24.450001</td>\n",
       "      <td>30.740000</td>\n",
       "    </tr>\n",
       "    <tr>\n",
       "      <th>2017-05-25</th>\n",
       "      <td>14.656430</td>\n",
       "      <td>106.916344</td>\n",
       "      <td>10.570000</td>\n",
       "      <td>25.049999</td>\n",
       "      <td>30.360001</td>\n",
       "    </tr>\n",
       "    <tr>\n",
       "      <th>2017-05-26</th>\n",
       "      <td>14.519272</td>\n",
       "      <td>105.227348</td>\n",
       "      <td>10.760000</td>\n",
       "      <td>24.650000</td>\n",
       "      <td>30.129999</td>\n",
       "    </tr>\n",
       "    <tr>\n",
       "      <th>2017-05-30</th>\n",
       "      <td>14.440895</td>\n",
       "      <td>105.527168</td>\n",
       "      <td>10.630000</td>\n",
       "      <td>24.700001</td>\n",
       "      <td>30.200001</td>\n",
       "    </tr>\n",
       "    <tr>\n",
       "      <th>2017-05-31</th>\n",
       "      <td>14.303736</td>\n",
       "      <td>105.886955</td>\n",
       "      <td>10.540000</td>\n",
       "      <td>25.049999</td>\n",
       "      <td>30.080000</td>\n",
       "    </tr>\n",
       "    <tr>\n",
       "      <th>2017-06-01</th>\n",
       "      <td>14.685822</td>\n",
       "      <td>106.146797</td>\n",
       "      <td>10.960000</td>\n",
       "      <td>25.049999</td>\n",
       "      <td>30.639999</td>\n",
       "    </tr>\n",
       "    <tr>\n",
       "      <th>2017-06-02</th>\n",
       "      <td>14.862169</td>\n",
       "      <td>105.896942</td>\n",
       "      <td>10.830000</td>\n",
       "      <td>24.850000</td>\n",
       "      <td>30.930000</td>\n",
       "    </tr>\n",
       "    <tr>\n",
       "      <th>2017-06-05</th>\n",
       "      <td>14.852371</td>\n",
       "      <td>105.147392</td>\n",
       "      <td>10.830000</td>\n",
       "      <td>25.150000</td>\n",
       "      <td>30.230000</td>\n",
       "    </tr>\n",
       "    <tr>\n",
       "      <th>2017-06-06</th>\n",
       "      <td>14.764197</td>\n",
       "      <td>103.588326</td>\n",
       "      <td>10.940000</td>\n",
       "      <td>24.950001</td>\n",
       "      <td>29.860001</td>\n",
       "    </tr>\n",
       "    <tr>\n",
       "      <th>2017-06-07</th>\n",
       "      <td>14.871966</td>\n",
       "      <td>103.118607</td>\n",
       "      <td>10.730000</td>\n",
       "      <td>25.049999</td>\n",
       "      <td>29.809999</td>\n",
       "    </tr>\n",
       "    <tr>\n",
       "      <th>2017-06-08</th>\n",
       "      <td>14.822981</td>\n",
       "      <td>103.098610</td>\n",
       "      <td>10.900000</td>\n",
       "      <td>25.049999</td>\n",
       "      <td>29.950001</td>\n",
       "    </tr>\n",
       "    <tr>\n",
       "      <th>2017-06-09</th>\n",
       "      <td>14.969937</td>\n",
       "      <td>105.527168</td>\n",
       "      <td>10.850000</td>\n",
       "      <td>24.850000</td>\n",
       "      <td>29.740000</td>\n",
       "    </tr>\n",
       "    <tr>\n",
       "      <th>2017-06-12</th>\n",
       "      <td>15.038517</td>\n",
       "      <td>106.136795</td>\n",
       "      <td>11.090000</td>\n",
       "      <td>24.350000</td>\n",
       "      <td>31.150000</td>\n",
       "    </tr>\n",
       "    <tr>\n",
       "      <th>2017-06-13</th>\n",
       "      <td>14.832778</td>\n",
       "      <td>105.547157</td>\n",
       "      <td>10.720000</td>\n",
       "      <td>24.549999</td>\n",
       "      <td>32.070000</td>\n",
       "    </tr>\n",
       "    <tr>\n",
       "      <th>2017-06-14</th>\n",
       "      <td>14.793591</td>\n",
       "      <td>106.366669</td>\n",
       "      <td>10.460000</td>\n",
       "      <td>24.549999</td>\n",
       "      <td>32.110001</td>\n",
       "    </tr>\n",
       "    <tr>\n",
       "      <th>2017-06-15</th>\n",
       "      <td>14.764197</td>\n",
       "      <td>105.597130</td>\n",
       "      <td>10.460000</td>\n",
       "      <td>24.600000</td>\n",
       "      <td>32.660000</td>\n",
       "    </tr>\n",
       "    <tr>\n",
       "      <th>2017-06-16</th>\n",
       "      <td>14.832778</td>\n",
       "      <td>105.067444</td>\n",
       "      <td>10.450000</td>\n",
       "      <td>24.650000</td>\n",
       "      <td>33.939999</td>\n",
       "    </tr>\n",
       "    <tr>\n",
       "      <th>2017-06-19</th>\n",
       "      <td>14.685822</td>\n",
       "      <td>105.657089</td>\n",
       "      <td>10.580000</td>\n",
       "      <td>24.950001</td>\n",
       "      <td>34.439999</td>\n",
       "    </tr>\n",
       "    <tr>\n",
       "      <th>2017-06-20</th>\n",
       "      <td>14.597648</td>\n",
       "      <td>104.827583</td>\n",
       "      <td>10.500000</td>\n",
       "      <td>24.799999</td>\n",
       "      <td>34.759998</td>\n",
       "    </tr>\n",
       "    <tr>\n",
       "      <th>2017-06-21</th>\n",
       "      <td>14.470286</td>\n",
       "      <td>105.007477</td>\n",
       "      <td>10.540000</td>\n",
       "      <td>24.650000</td>\n",
       "      <td>35.340000</td>\n",
       "    </tr>\n",
       "    <tr>\n",
       "      <th>2017-06-22</th>\n",
       "      <td>14.391909</td>\n",
       "      <td>109.005096</td>\n",
       "      <td>10.700000</td>\n",
       "      <td>25.049999</td>\n",
       "      <td>37.110001</td>\n",
       "    </tr>\n",
       "    <tr>\n",
       "      <th>2017-06-23</th>\n",
       "      <td>14.646633</td>\n",
       "      <td>110.414261</td>\n",
       "      <td>11.090000</td>\n",
       "      <td>25.049999</td>\n",
       "      <td>37.540001</td>\n",
       "    </tr>\n",
       "    <tr>\n",
       "      <th>...</th>\n",
       "      <td>...</td>\n",
       "      <td>...</td>\n",
       "      <td>...</td>\n",
       "      <td>...</td>\n",
       "      <td>...</td>\n",
       "    </tr>\n",
       "    <tr>\n",
       "      <th>2017-10-17</th>\n",
       "      <td>16.644909</td>\n",
       "      <td>124.125404</td>\n",
       "      <td>14.580000</td>\n",
       "      <td>28.650000</td>\n",
       "      <td>47.750000</td>\n",
       "    </tr>\n",
       "    <tr>\n",
       "      <th>2017-10-18</th>\n",
       "      <td>16.635008</td>\n",
       "      <td>124.325348</td>\n",
       "      <td>15.210000</td>\n",
       "      <td>28.799999</td>\n",
       "      <td>47.299999</td>\n",
       "    </tr>\n",
       "    <tr>\n",
       "      <th>2017-10-19</th>\n",
       "      <td>16.743927</td>\n",
       "      <td>125.704964</td>\n",
       "      <td>15.120000</td>\n",
       "      <td>28.950001</td>\n",
       "      <td>47.400002</td>\n",
       "    </tr>\n",
       "    <tr>\n",
       "      <th>2017-10-20</th>\n",
       "      <td>16.753830</td>\n",
       "      <td>128.274246</td>\n",
       "      <td>15.200000</td>\n",
       "      <td>29.100000</td>\n",
       "      <td>48.160000</td>\n",
       "    </tr>\n",
       "    <tr>\n",
       "      <th>2017-10-23</th>\n",
       "      <td>16.763731</td>\n",
       "      <td>129.643860</td>\n",
       "      <td>15.070000</td>\n",
       "      <td>29.000000</td>\n",
       "      <td>48.240002</td>\n",
       "    </tr>\n",
       "    <tr>\n",
       "      <th>2017-10-24</th>\n",
       "      <td>16.694420</td>\n",
       "      <td>129.583878</td>\n",
       "      <td>15.190000</td>\n",
       "      <td>29.000000</td>\n",
       "      <td>48.320000</td>\n",
       "    </tr>\n",
       "    <tr>\n",
       "      <th>2017-10-25</th>\n",
       "      <td>16.694420</td>\n",
       "      <td>129.963776</td>\n",
       "      <td>15.020000</td>\n",
       "      <td>28.799999</td>\n",
       "      <td>48.480000</td>\n",
       "    </tr>\n",
       "    <tr>\n",
       "      <th>2017-10-26</th>\n",
       "      <td>16.714222</td>\n",
       "      <td>129.004044</td>\n",
       "      <td>15.830000</td>\n",
       "      <td>29.000000</td>\n",
       "      <td>48.110001</td>\n",
       "    </tr>\n",
       "    <tr>\n",
       "      <th>2017-10-27</th>\n",
       "      <td>16.862751</td>\n",
       "      <td>127.014603</td>\n",
       "      <td>16.379999</td>\n",
       "      <td>29.450001</td>\n",
       "      <td>49.650002</td>\n",
       "    </tr>\n",
       "    <tr>\n",
       "      <th>2017-10-30</th>\n",
       "      <td>16.783535</td>\n",
       "      <td>127.324509</td>\n",
       "      <td>16.020000</td>\n",
       "      <td>28.900000</td>\n",
       "      <td>49.570000</td>\n",
       "    </tr>\n",
       "    <tr>\n",
       "      <th>2017-10-31</th>\n",
       "      <td>16.872652</td>\n",
       "      <td>126.774658</td>\n",
       "      <td>15.990000</td>\n",
       "      <td>29.049999</td>\n",
       "      <td>49.669998</td>\n",
       "    </tr>\n",
       "    <tr>\n",
       "      <th>2017-11-01</th>\n",
       "      <td>16.941965</td>\n",
       "      <td>127.874359</td>\n",
       "      <td>15.940000</td>\n",
       "      <td>28.600000</td>\n",
       "      <td>49.209999</td>\n",
       "    </tr>\n",
       "    <tr>\n",
       "      <th>2017-11-02</th>\n",
       "      <td>17.139999</td>\n",
       "      <td>127.524452</td>\n",
       "      <td>15.850000</td>\n",
       "      <td>28.799999</td>\n",
       "      <td>49.810001</td>\n",
       "    </tr>\n",
       "    <tr>\n",
       "      <th>2017-11-03</th>\n",
       "      <td>17.050882</td>\n",
       "      <td>126.844643</td>\n",
       "      <td>14.990000</td>\n",
       "      <td>29.150000</td>\n",
       "      <td>50.680000</td>\n",
       "    </tr>\n",
       "    <tr>\n",
       "      <th>2017-11-06</th>\n",
       "      <td>17.130096</td>\n",
       "      <td>127.354500</td>\n",
       "      <td>15.270000</td>\n",
       "      <td>29.450001</td>\n",
       "      <td>50.299999</td>\n",
       "    </tr>\n",
       "    <tr>\n",
       "      <th>2017-11-07</th>\n",
       "      <td>17.130096</td>\n",
       "      <td>122.705795</td>\n",
       "      <td>15.290000</td>\n",
       "      <td>29.350000</td>\n",
       "      <td>48.009998</td>\n",
       "    </tr>\n",
       "    <tr>\n",
       "      <th>2017-11-08</th>\n",
       "      <td>17.159803</td>\n",
       "      <td>123.535568</td>\n",
       "      <td>15.350000</td>\n",
       "      <td>29.650000</td>\n",
       "      <td>47.450001</td>\n",
       "    </tr>\n",
       "    <tr>\n",
       "      <th>2017-11-09</th>\n",
       "      <td>17.070686</td>\n",
       "      <td>124.835205</td>\n",
       "      <td>15.330000</td>\n",
       "      <td>29.750000</td>\n",
       "      <td>47.730000</td>\n",
       "    </tr>\n",
       "    <tr>\n",
       "      <th>2017-11-10</th>\n",
       "      <td>17.031080</td>\n",
       "      <td>127.434479</td>\n",
       "      <td>15.200000</td>\n",
       "      <td>30.100000</td>\n",
       "      <td>47.970001</td>\n",
       "    </tr>\n",
       "    <tr>\n",
       "      <th>2017-11-13</th>\n",
       "      <td>17.139999</td>\n",
       "      <td>127.434479</td>\n",
       "      <td>14.950000</td>\n",
       "      <td>29.750000</td>\n",
       "      <td>47.759998</td>\n",
       "    </tr>\n",
       "    <tr>\n",
       "      <th>2017-11-14</th>\n",
       "      <td>17.389999</td>\n",
       "      <td>126.794662</td>\n",
       "      <td>14.650000</td>\n",
       "      <td>29.900000</td>\n",
       "      <td>47.410000</td>\n",
       "    </tr>\n",
       "    <tr>\n",
       "      <th>2017-11-15</th>\n",
       "      <td>17.070000</td>\n",
       "      <td>126.844643</td>\n",
       "      <td>14.570000</td>\n",
       "      <td>29.650000</td>\n",
       "      <td>47.290001</td>\n",
       "    </tr>\n",
       "    <tr>\n",
       "      <th>2017-11-16</th>\n",
       "      <td>17.299999</td>\n",
       "      <td>129.903793</td>\n",
       "      <td>14.840000</td>\n",
       "      <td>30.000000</td>\n",
       "      <td>48.119999</td>\n",
       "    </tr>\n",
       "    <tr>\n",
       "      <th>2017-11-17</th>\n",
       "      <td>17.330000</td>\n",
       "      <td>133.082901</td>\n",
       "      <td>15.090000</td>\n",
       "      <td>29.900000</td>\n",
       "      <td>48.520000</td>\n",
       "    </tr>\n",
       "    <tr>\n",
       "      <th>2017-11-20</th>\n",
       "      <td>17.459999</td>\n",
       "      <td>136.332001</td>\n",
       "      <td>15.400000</td>\n",
       "      <td>30.250000</td>\n",
       "      <td>49.709999</td>\n",
       "    </tr>\n",
       "    <tr>\n",
       "      <th>2017-11-21</th>\n",
       "      <td>17.670000</td>\n",
       "      <td>136.110001</td>\n",
       "      <td>15.450000</td>\n",
       "      <td>30.950001</td>\n",
       "      <td>45.650002</td>\n",
       "    </tr>\n",
       "    <tr>\n",
       "      <th>2017-11-22</th>\n",
       "      <td>17.650000</td>\n",
       "      <td>135.270004</td>\n",
       "      <td>15.990000</td>\n",
       "      <td>31.150000</td>\n",
       "      <td>47.680000</td>\n",
       "    </tr>\n",
       "    <tr>\n",
       "      <th>2017-11-24</th>\n",
       "      <td>17.700001</td>\n",
       "      <td>135.470001</td>\n",
       "      <td>16.270000</td>\n",
       "      <td>31.049999</td>\n",
       "      <td>47.860001</td>\n",
       "    </tr>\n",
       "    <tr>\n",
       "      <th>2017-11-27</th>\n",
       "      <td>17.809999</td>\n",
       "      <td>135.240005</td>\n",
       "      <td>15.970000</td>\n",
       "      <td>30.600000</td>\n",
       "      <td>48.480000</td>\n",
       "    </tr>\n",
       "    <tr>\n",
       "      <th>2017-11-28</th>\n",
       "      <td>17.700001</td>\n",
       "      <td>137.559998</td>\n",
       "      <td>15.900000</td>\n",
       "      <td>30.799999</td>\n",
       "      <td>48.580002</td>\n",
       "    </tr>\n",
       "  </tbody>\n",
       "</table>\n",
       "<p>139 rows × 5 columns</p>\n",
       "</div>"
      ],
      "text/plain": [
       "                  MNR         PVH        GSM       DSGX       ENTA\n",
       "Date                                                              \n",
       "2017-05-12  13.676723  100.092514   8.600000  23.650000  33.310001\n",
       "2017-05-15  13.764896  100.392220   8.740000  23.950001  32.820000\n",
       "2017-05-16  13.735506   99.031029   8.780000  24.400000  32.570000\n",
       "2017-05-17  13.745302   97.412003   8.810000  23.549999  32.060001\n",
       "2017-05-18  14.166577   99.031029   9.010000  23.400000  32.049999\n",
       "2017-05-19  14.421301  100.350258   9.210000  24.100000  32.480000\n",
       "2017-05-22  14.421301  102.059235  10.010000  23.900000  31.870001\n",
       "2017-05-23  14.509475  102.319077  10.130000  24.000000  31.500000\n",
       "2017-05-24  14.538866  101.979279  10.300000  24.450001  30.740000\n",
       "2017-05-25  14.656430  106.916344  10.570000  25.049999  30.360001\n",
       "2017-05-26  14.519272  105.227348  10.760000  24.650000  30.129999\n",
       "2017-05-30  14.440895  105.527168  10.630000  24.700001  30.200001\n",
       "2017-05-31  14.303736  105.886955  10.540000  25.049999  30.080000\n",
       "2017-06-01  14.685822  106.146797  10.960000  25.049999  30.639999\n",
       "2017-06-02  14.862169  105.896942  10.830000  24.850000  30.930000\n",
       "2017-06-05  14.852371  105.147392  10.830000  25.150000  30.230000\n",
       "2017-06-06  14.764197  103.588326  10.940000  24.950001  29.860001\n",
       "2017-06-07  14.871966  103.118607  10.730000  25.049999  29.809999\n",
       "2017-06-08  14.822981  103.098610  10.900000  25.049999  29.950001\n",
       "2017-06-09  14.969937  105.527168  10.850000  24.850000  29.740000\n",
       "2017-06-12  15.038517  106.136795  11.090000  24.350000  31.150000\n",
       "2017-06-13  14.832778  105.547157  10.720000  24.549999  32.070000\n",
       "2017-06-14  14.793591  106.366669  10.460000  24.549999  32.110001\n",
       "2017-06-15  14.764197  105.597130  10.460000  24.600000  32.660000\n",
       "2017-06-16  14.832778  105.067444  10.450000  24.650000  33.939999\n",
       "2017-06-19  14.685822  105.657089  10.580000  24.950001  34.439999\n",
       "2017-06-20  14.597648  104.827583  10.500000  24.799999  34.759998\n",
       "2017-06-21  14.470286  105.007477  10.540000  24.650000  35.340000\n",
       "2017-06-22  14.391909  109.005096  10.700000  25.049999  37.110001\n",
       "2017-06-23  14.646633  110.414261  11.090000  25.049999  37.540001\n",
       "...               ...         ...        ...        ...        ...\n",
       "2017-10-17  16.644909  124.125404  14.580000  28.650000  47.750000\n",
       "2017-10-18  16.635008  124.325348  15.210000  28.799999  47.299999\n",
       "2017-10-19  16.743927  125.704964  15.120000  28.950001  47.400002\n",
       "2017-10-20  16.753830  128.274246  15.200000  29.100000  48.160000\n",
       "2017-10-23  16.763731  129.643860  15.070000  29.000000  48.240002\n",
       "2017-10-24  16.694420  129.583878  15.190000  29.000000  48.320000\n",
       "2017-10-25  16.694420  129.963776  15.020000  28.799999  48.480000\n",
       "2017-10-26  16.714222  129.004044  15.830000  29.000000  48.110001\n",
       "2017-10-27  16.862751  127.014603  16.379999  29.450001  49.650002\n",
       "2017-10-30  16.783535  127.324509  16.020000  28.900000  49.570000\n",
       "2017-10-31  16.872652  126.774658  15.990000  29.049999  49.669998\n",
       "2017-11-01  16.941965  127.874359  15.940000  28.600000  49.209999\n",
       "2017-11-02  17.139999  127.524452  15.850000  28.799999  49.810001\n",
       "2017-11-03  17.050882  126.844643  14.990000  29.150000  50.680000\n",
       "2017-11-06  17.130096  127.354500  15.270000  29.450001  50.299999\n",
       "2017-11-07  17.130096  122.705795  15.290000  29.350000  48.009998\n",
       "2017-11-08  17.159803  123.535568  15.350000  29.650000  47.450001\n",
       "2017-11-09  17.070686  124.835205  15.330000  29.750000  47.730000\n",
       "2017-11-10  17.031080  127.434479  15.200000  30.100000  47.970001\n",
       "2017-11-13  17.139999  127.434479  14.950000  29.750000  47.759998\n",
       "2017-11-14  17.389999  126.794662  14.650000  29.900000  47.410000\n",
       "2017-11-15  17.070000  126.844643  14.570000  29.650000  47.290001\n",
       "2017-11-16  17.299999  129.903793  14.840000  30.000000  48.119999\n",
       "2017-11-17  17.330000  133.082901  15.090000  29.900000  48.520000\n",
       "2017-11-20  17.459999  136.332001  15.400000  30.250000  49.709999\n",
       "2017-11-21  17.670000  136.110001  15.450000  30.950001  45.650002\n",
       "2017-11-22  17.650000  135.270004  15.990000  31.150000  47.680000\n",
       "2017-11-24  17.700001  135.470001  16.270000  31.049999  47.860001\n",
       "2017-11-27  17.809999  135.240005  15.970000  30.600000  48.480000\n",
       "2017-11-28  17.700001  137.559998  15.900000  30.799999  48.580002\n",
       "\n",
       "[139 rows x 5 columns]"
      ]
     },
     "execution_count": 9,
     "metadata": {},
     "output_type": "execute_result"
    }
   ],
   "source": [
    "df"
   ]
  },
  {
   "cell_type": "code",
   "execution_count": 10,
   "metadata": {},
   "outputs": [
    {
     "data": {
      "text/plain": [
       "MNR     0.470892\n",
       "PVH     0.580632\n",
       "GSM     1.122234\n",
       "DSGX    0.482364\n",
       "ENTA    0.689082\n",
       "dtype: float64"
      ]
     },
     "execution_count": 10,
     "metadata": {},
     "output_type": "execute_result"
    }
   ],
   "source": [
    "rets.mean() * 252"
   ]
  },
  {
   "cell_type": "code",
   "execution_count": 11,
   "metadata": {},
   "outputs": [
    {
     "data": {
      "text/html": [
       "<div>\n",
       "<style>\n",
       "    .dataframe thead tr:only-child th {\n",
       "        text-align: right;\n",
       "    }\n",
       "\n",
       "    .dataframe thead th {\n",
       "        text-align: left;\n",
       "    }\n",
       "\n",
       "    .dataframe tbody tr th {\n",
       "        vertical-align: top;\n",
       "    }\n",
       "</style>\n",
       "<table border=\"1\" class=\"dataframe\">\n",
       "  <thead>\n",
       "    <tr style=\"text-align: right;\">\n",
       "      <th></th>\n",
       "      <th>MNR</th>\n",
       "      <th>PVH</th>\n",
       "      <th>GSM</th>\n",
       "      <th>DSGX</th>\n",
       "      <th>ENTA</th>\n",
       "    </tr>\n",
       "  </thead>\n",
       "  <tbody>\n",
       "    <tr>\n",
       "      <th>MNR</th>\n",
       "      <td>0.020501</td>\n",
       "      <td>0.002846</td>\n",
       "      <td>0.003388</td>\n",
       "      <td>0.003283</td>\n",
       "      <td>-0.000876</td>\n",
       "    </tr>\n",
       "    <tr>\n",
       "      <th>PVH</th>\n",
       "      <td>0.002846</td>\n",
       "      <td>0.037578</td>\n",
       "      <td>0.010494</td>\n",
       "      <td>0.007382</td>\n",
       "      <td>0.010140</td>\n",
       "    </tr>\n",
       "    <tr>\n",
       "      <th>GSM</th>\n",
       "      <td>0.003388</td>\n",
       "      <td>0.010494</td>\n",
       "      <td>0.111102</td>\n",
       "      <td>0.010311</td>\n",
       "      <td>0.008183</td>\n",
       "    </tr>\n",
       "    <tr>\n",
       "      <th>DSGX</th>\n",
       "      <td>0.003283</td>\n",
       "      <td>0.007382</td>\n",
       "      <td>0.010311</td>\n",
       "      <td>0.032331</td>\n",
       "      <td>0.001203</td>\n",
       "    </tr>\n",
       "    <tr>\n",
       "      <th>ENTA</th>\n",
       "      <td>-0.000876</td>\n",
       "      <td>0.010140</td>\n",
       "      <td>0.008183</td>\n",
       "      <td>0.001203</td>\n",
       "      <td>0.131397</td>\n",
       "    </tr>\n",
       "  </tbody>\n",
       "</table>\n",
       "</div>"
      ],
      "text/plain": [
       "           MNR       PVH       GSM      DSGX      ENTA\n",
       "MNR   0.020501  0.002846  0.003388  0.003283 -0.000876\n",
       "PVH   0.002846  0.037578  0.010494  0.007382  0.010140\n",
       "GSM   0.003388  0.010494  0.111102  0.010311  0.008183\n",
       "DSGX  0.003283  0.007382  0.010311  0.032331  0.001203\n",
       "ENTA -0.000876  0.010140  0.008183  0.001203  0.131397"
      ]
     },
     "execution_count": 11,
     "metadata": {},
     "output_type": "execute_result"
    }
   ],
   "source": [
    "rets.cov() * 252"
   ]
  },
  {
   "cell_type": "code",
   "execution_count": 12,
   "metadata": {},
   "outputs": [
    {
     "data": {
      "text/plain": [
       "array([ 0.22696122,  0.07036126,  0.25450707,  0.12240118,  0.32576927])"
      ]
     },
     "execution_count": 12,
     "metadata": {},
     "output_type": "execute_result"
    }
   ],
   "source": [
    "weights = np.random.random(noa)\n",
    "weights /= np.sum(weights)\n",
    "weights"
   ]
  },
  {
   "cell_type": "code",
   "execution_count": 13,
   "metadata": {},
   "outputs": [
    {
     "data": {
      "text/plain": [
       "0.71686832283326329"
      ]
     },
     "execution_count": 13,
     "metadata": {},
     "output_type": "execute_result"
    }
   ],
   "source": [
    "np.dot(weights.T, rets.mean()) * 252"
   ]
  },
  {
   "cell_type": "code",
   "execution_count": 14,
   "metadata": {},
   "outputs": [
    {
     "data": {
      "text/plain": [
       "0.026465725135441102"
      ]
     },
     "execution_count": 14,
     "metadata": {},
     "output_type": "execute_result"
    }
   ],
   "source": [
    "np.dot(weights.T, np.dot(rets.cov() * 252, weights))"
   ]
  },
  {
   "cell_type": "code",
   "execution_count": 15,
   "metadata": {},
   "outputs": [
    {
     "data": {
      "text/plain": [
       "0.16268289748907566"
      ]
     },
     "execution_count": 15,
     "metadata": {},
     "output_type": "execute_result"
    }
   ],
   "source": [
    "np.sqrt(np.dot(weights.T, np.dot(rets.cov() * 252, weights)))"
   ]
  },
  {
   "cell_type": "code",
   "execution_count": 16,
   "metadata": {
    "collapsed": true
   },
   "outputs": [],
   "source": [
    "prets = []\n",
    "pvols = []\n",
    "for p in range(2500):\n",
    "    weights = np.random.random(noa)\n",
    "    weights = weights / np.sum(weights)\n",
    "    prets.append(np.dot(weights.T, rets.mean() * 252))\n",
    "    pvols.append(np.sqrt(np.dot(weights.T, np.dot(rets.cov() * 252, weights))))\n",
    "    \n",
    "prets = np.array(prets)\n",
    "pvols = np.array(pvols)"
   ]
  },
  {
   "cell_type": "code",
   "execution_count": 17,
   "metadata": {},
   "outputs": [
    {
     "data": {
      "text/plain": [
       "<matplotlib.colorbar.Colorbar at 0xb9a0828>"
      ]
     },
     "execution_count": 17,
     "metadata": {},
     "output_type": "execute_result"
    },
    {
     "data": {
      "image/png": "[encoded data removed]",
      "text/plain": [
       "<matplotlib.figure.Figure at 0xe46ada0>"
      ]
     },
     "metadata": {},
     "output_type": "display_data"
    }
   ],
   "source": [
    "plt.figure(figsize=(9, 5))\n",
    "plt.scatter(pvols, prets, c=prets/pvols, marker='o')\n",
    "plt.grid(True)\n",
    "plt.xlabel('Expected volatility')\n",
    "plt.ylabel('Expected return')\n",
    "plt.colorbar(label='Sharpe Ratio')"
   ]
  },
  {
   "cell_type": "code",
   "execution_count": 18,
   "metadata": {
    "collapsed": true
   },
   "outputs": [],
   "source": [
    "def statistics(weights):\n",
    "    weights = np.array(weights)\n",
    "    pret = np.dot(weights.T, rets.mean() * 252)\n",
    "    pvol = np.sqrt(np.dot(weights.T, np.dot(rets.cov() * 252, weights)))\n",
    "    return np.array([pret, pvol, pret / pvol])"
   ]
  },
  {
   "cell_type": "code",
   "execution_count": 19,
   "metadata": {
    "collapsed": true
   },
   "outputs": [],
   "source": [
    "def min_func_sharpe(weights):\n",
    "    return -statistics(weights)[2]"
   ]
  },
  {
   "cell_type": "code",
   "execution_count": 20,
   "metadata": {
    "collapsed": true
   },
   "outputs": [],
   "source": [
    "cons = ({'type':'eq', 'fun': lambda x: np.sum(x) - 1})\n",
    "bnds = tuple((0,1) for x in range(noa))"
   ]
  },
  {
   "cell_type": "code",
   "execution_count": 21,
   "metadata": {},
   "outputs": [
    {
     "name": "stdout",
     "output_type": "stream",
     "text": [
      "Wall time: 50 ms\n"
     ]
    }
   ],
   "source": [
    "%%time\n",
    "opts = sco.minimize(min_func_sharpe, noa * [1. / noa,], method='SLSQP', bounds=bnds, constraints=cons)"
   ]
  },
  {
   "cell_type": "code",
   "execution_count": 22,
   "metadata": {},
   "outputs": [
    {
     "data": {
      "text/plain": [
       "     fun: -5.453032134518193\n",
       "     jac: array([-0.00107652, -0.00173211,  0.00343269, -0.00072485,  0.00401819])\n",
       " message: 'Optimization terminated successfully.'\n",
       "    nfev: 56\n",
       "     nit: 7\n",
       "    njev: 7\n",
       "  status: 0\n",
       " success: True\n",
       "       x: array([ 0.39843502,  0.18855042,  0.15642234,  0.17152248,  0.08506974])"
      ]
     },
     "execution_count": 22,
     "metadata": {},
     "output_type": "execute_result"
    }
   ],
   "source": [
    "opts"
   ]
  },
  {
   "cell_type": "code",
   "execution_count": 23,
   "metadata": {
    "collapsed": true
   },
   "outputs": [],
   "source": [
    "def calc_weights(BP, xs, df):\n",
    "    t = BP / np.dot(df.tail(1), xs)\n",
    "    out = zip(symbols, t * xs)\n",
    "    out = sorted(out, key=lambda tup: tup[1], reverse=True)\n",
    "    return out"
   ]
  },
  {
   "cell_type": "code",
   "execution_count": 29,
   "metadata": {},
   "outputs": [
    {
     "name": "stdout",
     "output_type": "stream",
     "text": [
      "[(u'MNR', 3.76), (u'PVH', 1.78), (u'DSGX', 1.62), (u'GSM', 1.48), (u'ENTA', 0.8)]\n",
      "[u'MNR', u'PVH', u'DSGX', u'GSM', u'ENTA']\n"
     ]
    }
   ],
   "source": [
    "out = calc_weights(424.00, opts.x, df)\n",
    "print [(sym[0], round(sym[1],2)) for sym in out]\n",
    "print [sym[0] for sym in out if sym[1] > 0.00001]"
   ]
  },
  {
   "cell_type": "code",
   "execution_count": 25,
   "metadata": {
    "scrolled": true
   },
   "outputs": [
    {
     "data": {
      "text/html": [
       "<div>\n",
       "<style>\n",
       "    .dataframe thead tr:only-child th {\n",
       "        text-align: right;\n",
       "    }\n",
       "\n",
       "    .dataframe thead th {\n",
       "        text-align: left;\n",
       "    }\n",
       "\n",
       "    .dataframe tbody tr th {\n",
       "        vertical-align: top;\n",
       "    }\n",
       "</style>\n",
       "<table border=\"1\" class=\"dataframe\">\n",
       "  <thead>\n",
       "    <tr style=\"text-align: right;\">\n",
       "      <th></th>\n",
       "      <th>MNR</th>\n",
       "      <th>PVH</th>\n",
       "      <th>GSM</th>\n",
       "      <th>DSGX</th>\n",
       "      <th>ENTA</th>\n",
       "    </tr>\n",
       "    <tr>\n",
       "      <th>Date</th>\n",
       "      <th></th>\n",
       "      <th></th>\n",
       "      <th></th>\n",
       "      <th></th>\n",
       "      <th></th>\n",
       "    </tr>\n",
       "  </thead>\n",
       "  <tbody>\n",
       "    <tr>\n",
       "      <th>2017-11-28</th>\n",
       "      <td>17.700001</td>\n",
       "      <td>137.559998</td>\n",
       "      <td>15.9</td>\n",
       "      <td>30.799999</td>\n",
       "      <td>48.580002</td>\n",
       "    </tr>\n",
       "  </tbody>\n",
       "</table>\n",
       "</div>"
      ],
      "text/plain": [
       "                  MNR         PVH   GSM       DSGX       ENTA\n",
       "Date                                                         \n",
       "2017-11-28  17.700001  137.559998  15.9  30.799999  48.580002"
      ]
     },
     "execution_count": 25,
     "metadata": {},
     "output_type": "execute_result"
    }
   ],
   "source": [
    "df.tail(1)"
   ]
  },
  {
   "cell_type": "code",
   "execution_count": 26,
   "metadata": {},
   "outputs": [
    {
     "data": {
      "text/plain": [
       "32"
      ]
     },
     "execution_count": 26,
     "metadata": {},
     "output_type": "execute_result"
    }
   ],
   "source": [
    "450 - 2 * 108 - 2 * 57 - 4 * 22"
   ]
  },
  {
   "cell_type": "code",
   "execution_count": 27,
   "metadata": {
    "collapsed": true
   },
   "outputs": [],
   "source": [
    "# CRM-2, SQM-2, HPQ-4, ASYS-2"
   ]
  }
 ],
 "metadata": {
  "kernelspec": {
   "display_name": "Python 2",
   "language": "python",
   "name": "python2"
  },
  "language_info": {
   "codemirror_mode": {
    "name": "ipython",
    "version": 2
   },
   "file_extension": ".py",
   "mimetype": "text/x-python",
   "name": "python",
   "nbconvert_exporter": "python",
   "pygments_lexer": "ipython2",
   "version": "2.7.14"
  }
 },
 "nbformat": 4,
 "nbformat_minor": 2
}
