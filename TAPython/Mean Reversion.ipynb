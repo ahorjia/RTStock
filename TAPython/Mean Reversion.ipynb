{
 "cells": [
  {
   "cell_type": "markdown",
   "metadata": {},
   "source": [
    "* Mathematically, such a (continuous) time series is referred to as an __Ornstein-Uhlenbeck__ process.\n",
    "* Does a series behave like a __Ornstein-Uhlenbeck__ one?\n",
    "* Use __statsmodel__ to test for such characteristics of the time series\n",
    "* Test for the __stationarity__ of a time series"
   ]
  },
  {
   "cell_type": "markdown",
   "metadata": {},
   "source": [
    "* A continuous mean-reverting time series can be represented by an Ornstein-Uhlenbeck stochastic differential equation\n",
    "* $dx_t = θ(μ − x_t )dt + σdW_t$\n",
    "* $θ$ is the rate of reversion to the mean, $μ$ is the mean, $σ$ is the variance and $W_t$ is a Wiener Process or Brownian Motion.\n",
    "* the change of the price series in the next continuous time period is proportional to the difference between the mean price and the current price, with the addition of Gaussian noise."
   ]
  },
  {
   "cell_type": "markdown",
   "metadata": {},
   "source": [
    "* Augmented Dickey-Fuller Test (ADF Test)\n",
    "* Linear lag model of order p\n",
    "* $∆y_t = α + βt + γy_{t−1} + δ_1 ∆y_{t−1} + · · · + δ_{p−1} ∆y_{t−p+1} + \\epsilon_t$\n",
    "* The null hypothesis is that $δ$ is zero\n",
    "* If the hypothesis is rejected then the movement of the price series is proportional to the current price and thus it is unlikely to be random walk.\n",
    "* You usually reject the null when the p-value is less than or equal to a specified significance level"
   ]
  },
  {
   "cell_type": "code",
   "execution_count": 2,
   "metadata": {},
   "outputs": [],
   "source": [
    "from __future__ import print_function\n",
    "\n",
    "import statsmodels.tsa.stattools as ts\n",
    "from pandas_datareader import data, wb\n"
   ]
  },
  {
   "cell_type": "code",
   "execution_count": 4,
   "metadata": {},
   "outputs": [
    {
     "data": {
      "text/plain": [
       "(-2.5949259690789424,\n",
       " 0.094050507801525685,\n",
       " 1,\n",
       " 1948,\n",
       " {'1%': -3.4337113644639197,\n",
       "  '10%': -2.5675604733017385,\n",
       "  '5%': -2.8630248480815408},\n",
       " -1682.5640218905046)"
      ]
     },
     "execution_count": 4,
     "metadata": {},
     "output_type": "execute_result"
    }
   ],
   "source": [
    "sym_data = data.DataReader(\"ESNC\", 'yahoo')\n",
    "ts.adfuller(sym_data['Adj Close'], 1)"
   ]
  },
  {
   "cell_type": "markdown",
   "metadata": {},
   "source": [
    "* First value is the calculated test-statistic\n",
    "* Second value is the p-value.\n",
    "* The fourth is the number of data points in the sample.\n",
    "* The fifth value, the dictionary, contains the critical values of the test-statistic at the 1, 5 and 10 percent values respectively.\n",
    "* The test statistic is smaller (in absolute value) than the 10% critical value. Then you could reject the null and claim that your variable is stationary.\n",
    "* There is 9.4% chance that the model has a unit root\n",
    "* There is 9.4% chance that the process is non-stationary"
   ]
  },
  {
   "cell_type": "code",
   "execution_count": 5,
   "metadata": {},
   "outputs": [
    {
     "data": {
      "text/plain": [
       "(0.86448272705383988,\n",
       " 0.9926088618372102,\n",
       " 0,\n",
       " 1949,\n",
       " {'1%': -3.4337096375233331,\n",
       "  '10%': -2.567560067343214,\n",
       "  '5%': -2.863024085652552},\n",
       " 13391.622280081636)"
      ]
     },
     "execution_count": 5,
     "metadata": {},
     "output_type": "execute_result"
    }
   ],
   "source": [
    "sym_data = data.DataReader(\"AMZN\", 'yahoo')\n",
    "ts.adfuller(sym_data['Adj Close'], 1)"
   ]
  },
  {
   "cell_type": "markdown",
   "metadata": {},
   "source": [
    "* Since the calculated value of the test statistic is larger than any of the critical values at the 1, 5 or 10 percent levels, we cannot reject the null hypothesis of γ=0 and thus we are unlikely to have found a mean reverting time series."
   ]
  },
  {
   "cell_type": "markdown",
   "metadata": {},
   "source": [
    "* A time series (or stochastic process) is defined to be strongly stationary if its joint probability distribution is invariant under translations in time or space. In particular, and of key importance for traders, the mean and variance of the process do not change over time or space and they each do not follow a trend."
   ]
  },
  {
   "cell_type": "code",
   "execution_count": 12,
   "metadata": {},
   "outputs": [
    {
     "name": "stdout",
     "output_type": "stream",
     "text": [
      "Hurst(GBM):0.49785803683\n",
      "Hurst(MR):-8.99982688747e-05\n",
      "Hurst(TR):0.951720909908\n",
      "Hurst(CAPE): 0.330720994267\n",
      "Hurst(ESNC): 0.448092257917\n",
      "Hurst(AMZN): 0.474886254127\n"
     ]
    }
   ],
   "source": [
    "from __future__ import print_function\n",
    "from numpy import cumsum, log, polyfit, sqrt, std, subtract\n",
    "from numpy.random import randn\n",
    "\n",
    "def hurst(ts):\n",
    "    \"\"\"Returns the Hurst Exponent of the time series vector ts\"\"\"\n",
    "    # Create the range of lag values\n",
    "    lags = range(2, 100)\n",
    "    # Calculate the array of the variances of the lagged differences\n",
    "    tau = [sqrt(std(subtract(ts[lag:], ts[:-lag]))) for lag in lags]\n",
    "    # Use a linear fit to estimate the Hurst Exponent\n",
    "    poly = polyfit(log(lags), log(tau), 1)\n",
    "    # Return the Hurst exponent from the polyfit output\n",
    "    return poly[0]*2.0\n",
    "\n",
    "# Create a Gometric Brownian Motion, Mean-Reverting and Trending Series\n",
    "gbm = log(cumsum(randn(100000))+1000)\n",
    "mr = log(randn(100000)+1000)\n",
    "tr = log(cumsum(randn(100000)+1)+1000)\n",
    "\n",
    "# Output the Hurst Exponent for each of the above series\n",
    "# and the price of Amazon (the Adjusted Close price) for\n",
    "# the ADF test given above in the article\n",
    "print(\"Hurst(GBM):%s\" % hurst(gbm))\n",
    "print(\"Hurst(MR):%s\" % hurst(mr))\n",
    "print(\"Hurst(TR):%s\" % hurst(tr))\n",
    "\n",
    "cape = data.DataReader(\"CAPE\", 'yahoo')\n",
    "esnc = data.DataReader(\"ESNC\", 'yahoo')\n",
    "amzn = data.DataReader(\"AMZN\", 'yahoo')\n",
    "\n",
    "# Assuming you have run the above code to obtain ’amzn’!\n",
    "print(\"Hurst(CAPE): %s\" % hurst(cape['Adj Close']))\n",
    "print(\"Hurst(ESNC): %s\" % hurst(esnc['Adj Close']))\n",
    "print(\"Hurst(AMZN): %s\" % hurst(amzn['Adj Close']))"
   ]
  },
  {
   "cell_type": "code",
   "execution_count": null,
   "metadata": {
    "collapsed": true
   },
   "outputs": [],
   "source": []
  }
 ],
 "metadata": {
  "kernelspec": {
   "display_name": "Python 2",
   "language": "python",
   "name": "python2"
  },
  "language_info": {
   "codemirror_mode": {
    "name": "ipython",
    "version": 2
   },
   "file_extension": ".py",
   "mimetype": "text/x-python",
   "name": "python",
   "nbconvert_exporter": "python",
   "pygments_lexer": "ipython2",
   "version": "2.7.13"
  }
 },
 "nbformat": 4,
 "nbformat_minor": 2
}
