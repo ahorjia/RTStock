{
 "cells": [
  {
   "cell_type": "code",
   "execution_count": 1,
   "metadata": {
    "collapsed": true
   },
   "outputs": [],
   "source": [
    "from __future__ import print_function\n",
    "import datetime\n",
    "from math import ceil\n",
    "import bs4\n",
    "import MySQLdb as mdb\n",
    "import requests"
   ]
  },
  {
   "cell_type": "code",
   "execution_count": 8,
   "metadata": {},
   "outputs": [],
   "source": [
    "def get_list_sp500():\n",
    "\n",
    "    now = datetime.datetime.utcnow()\n",
    "    \n",
    "    response = requests.get(\n",
    "        \"http://en.wikipedia.org/wiki/List_of_S%26P_500_companies\"\n",
    "    )\n",
    "\n",
    "    soup = bs4.BeautifulSoup(response.text)\n",
    "    symbolslist = soup.select(\"table\")[0].select(\"tr\")[1:]\n",
    "    symbols = []\n",
    "    for i, symbol in enumerate(symbolslist):\n",
    "        tds = symbol.select(\"td\")\n",
    "        symbols.append(\n",
    "        (\n",
    "            tds[0].select(\"a\")[0].text,\n",
    "            \"stock\",\n",
    "            tds[1].select(\"a\")[0].text,\n",
    "            tds[3].text,\n",
    "            \"USD\",\n",
    "            now,\n",
    "            now\n",
    "        ))\n",
    "        return symbols"
   ]
  },
  {
   "cell_type": "code",
   "execution_count": 9,
   "metadata": {},
   "outputs": [],
   "source": [
    "symbols = get_list_sp500()"
   ]
  },
  {
   "cell_type": "code",
   "execution_count": null,
   "metadata": {
    "collapsed": true
   },
   "outputs": [],
   "source": []
  },
  {
   "cell_type": "code",
   "execution_count": 6,
   "metadata": {
    "collapsed": true
   },
   "outputs": [],
   "source": [
    "def insert_db(symbols):\n",
    "    db_host = `localhost`\n",
    "    db_user = `sec_user`\n",
    "    db_pass = `kiano045`\n",
    "    db_name = `securities_master`\n",
    "    \n",
    "    con = mdb.connect(\n",
    "        host=db_host, user=db_user, passwd=db_pass, db=db_name\n",
    "    )\n",
    "\n",
    "    column_str = \"\"\"ticker, instrument, name, sector,\n",
    "    currency, created_date, last_updated_date\n",
    "    \"\"\"\n",
    "    \n",
    "    insert_str = (\"%s, \" * 7)[:-2]\n",
    "    final_str = \"INSERT INTO symbol (%s) VALUES (%s)\" % \\\n",
    "        (column_str, insert_str)\n",
    "\n",
    "    with con:\n",
    "        cur = con.cursor()\n",
    "        cur.executemany(final_str, symbols)"
   ]
  },
  {
   "cell_type": "code",
   "execution_count": null,
   "metadata": {
    "collapsed": true
   },
   "outputs": [],
   "source": []
  }
 ],
 "metadata": {
  "kernelspec": {
   "display_name": "Python 2",
   "language": "python",
   "name": "python2"
  },
  "language_info": {
   "codemirror_mode": {
    "name": "ipython",
    "version": 2
   },
   "file_extension": ".py",
   "mimetype": "text/x-python",
   "name": "python",
   "nbconvert_exporter": "python",
   "pygments_lexer": "ipython2",
   "version": "2.7.13"
  }
 },
 "nbformat": 4,
 "nbformat_minor": 2
}
